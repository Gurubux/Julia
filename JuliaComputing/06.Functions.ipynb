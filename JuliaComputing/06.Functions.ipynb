{
  "cells": [
    {
      "cell_type": "markdown",
      "source": [
        "# Functions\n",
        "\n",
        "Topics:\n",
        "1. How to declare a function\n",
        "2. Duck-typing in Julia\n",
        "3. Mutating vs. non-mutating functions\n",
        "4. Some higher order functions"
      ],
      "metadata": {}
    },
    {
      "cell_type": "markdown",
      "source": [
        "## How to declare a function\n",
        "Julia gives us a few different ways to write a function. The first requires the `function` and `end` keywords"
      ],
      "metadata": {}
    },
    {
      "cell_type": "code",
      "source": [
        "function sayhi(name)\n",
        "    println(\"Hi $name, it's great to see you!\")\n",
        "end"
      ],
      "outputs": [
        {
          "output_type": "execute_result",
          "execution_count": 1,
          "data": {
            "text/plain": [
              "sayhi (generic function with 1 method)"
            ]
          },
          "metadata": {}
        }
      ],
      "execution_count": 1,
      "metadata": {
        "execution": {
          "iopub.status.busy": "2020-05-10T09:54:27.733Z",
          "iopub.execute_input": "2020-05-10T09:54:28.830Z",
          "iopub.status.idle": "2020-05-10T09:54:30.245Z"
        }
      }
    },
    {
      "cell_type": "code",
      "source": [
        "function f(x)\n",
        "    x^2\n",
        "end"
      ],
      "outputs": [
        {
          "output_type": "execute_result",
          "execution_count": 2,
          "data": {
            "text/plain": [
              "f (generic function with 1 method)"
            ]
          },
          "metadata": {}
        }
      ],
      "execution_count": 2,
      "metadata": {
        "execution": {
          "iopub.status.busy": "2020-05-10T09:54:30.267Z",
          "iopub.execute_input": "2020-05-10T09:54:30.278Z",
          "iopub.status.idle": "2020-05-10T09:54:30.560Z"
        }
      }
    },
    {
      "cell_type": "markdown",
      "source": [
        "We can call either of these functions like this:"
      ],
      "metadata": {}
    },
    {
      "cell_type": "code",
      "source": [
        "sayhi(\"C-3PO\")"
      ],
      "outputs": [
        {
          "output_type": "stream",
          "name": "stdout",
          "text": [
            "Hi C-3PO, it's great to see you!\n"
          ]
        }
      ],
      "execution_count": 3,
      "metadata": {
        "execution": {
          "iopub.status.busy": "2020-05-10T09:54:30.580Z",
          "iopub.execute_input": "2020-05-10T09:54:30.592Z",
          "iopub.status.idle": "2020-05-10T09:54:30.782Z"
        }
      }
    },
    {
      "cell_type": "code",
      "source": [
        "f(42)"
      ],
      "outputs": [
        {
          "output_type": "execute_result",
          "execution_count": 4,
          "data": {
            "text/plain": [
              "1764"
            ]
          },
          "metadata": {}
        }
      ],
      "execution_count": 4,
      "metadata": {
        "execution": {
          "iopub.status.busy": "2020-05-10T09:54:30.798Z",
          "iopub.execute_input": "2020-05-10T09:54:30.811Z",
          "iopub.status.idle": "2020-05-10T09:54:31.212Z"
        }
      }
    },
    {
      "cell_type": "markdown",
      "source": [
        "Alternatively, we could have declared either of these functions in a single line"
      ],
      "metadata": {}
    },
    {
      "cell_type": "code",
      "source": [
        "sayhi2(name) = println(\"Hi $name, it's great to see you!\")"
      ],
      "outputs": [
        {
          "output_type": "execute_result",
          "execution_count": 5,
          "data": {
            "text/plain": [
              "sayhi2 (generic function with 1 method)"
            ]
          },
          "metadata": {}
        }
      ],
      "execution_count": 5,
      "metadata": {
        "execution": {
          "iopub.status.busy": "2020-05-10T09:54:31.244Z",
          "iopub.execute_input": "2020-05-10T09:54:31.271Z",
          "iopub.status.idle": "2020-05-10T09:54:31.526Z"
        }
      }
    },
    {
      "cell_type": "code",
      "source": [
        "f2(x) = x^2"
      ],
      "outputs": [
        {
          "output_type": "execute_result",
          "execution_count": 6,
          "data": {
            "text/plain": [
              "f2 (generic function with 1 method)"
            ]
          },
          "metadata": {}
        }
      ],
      "execution_count": 6,
      "metadata": {
        "execution": {
          "iopub.status.busy": "2020-05-10T09:54:31.555Z",
          "iopub.execute_input": "2020-05-10T09:54:31.575Z",
          "iopub.status.idle": "2020-05-10T09:54:31.836Z"
        }
      }
    },
    {
      "cell_type": "code",
      "source": [
        "sayhi2(\"R2D2\")"
      ],
      "outputs": [
        {
          "output_type": "stream",
          "name": "stdout",
          "text": [
            "Hi R2D2, it's great to see you!\n"
          ]
        }
      ],
      "execution_count": 7,
      "metadata": {
        "execution": {
          "iopub.status.busy": "2020-05-10T09:54:31.873Z",
          "iopub.execute_input": "2020-05-10T09:54:31.893Z",
          "iopub.status.idle": "2020-05-10T09:54:31.936Z"
        }
      }
    },
    {
      "cell_type": "code",
      "source": [
        "f2(42)"
      ],
      "outputs": [
        {
          "output_type": "execute_result",
          "execution_count": 8,
          "data": {
            "text/plain": [
              "1764"
            ]
          },
          "metadata": {}
        }
      ],
      "execution_count": 8,
      "metadata": {
        "execution": {
          "iopub.status.busy": "2020-05-10T09:54:31.965Z",
          "iopub.execute_input": "2020-05-10T09:54:31.984Z",
          "iopub.status.idle": "2020-05-10T09:54:32.023Z"
        }
      }
    },
    {
      "cell_type": "markdown",
      "source": [
        "Finally, we could have declared these as \"anonymous\" functions"
      ],
      "metadata": {}
    },
    {
      "cell_type": "code",
      "source": [
        "sayhi3 = name -> println(\"Hi $name, it's great to see you!\")"
      ],
      "outputs": [
        {
          "output_type": "execute_result",
          "execution_count": 9,
          "data": {
            "text/plain": [
              "#3 (generic function with 1 method)"
            ]
          },
          "metadata": {}
        }
      ],
      "execution_count": 9,
      "metadata": {
        "execution": {
          "iopub.status.busy": "2020-05-10T09:54:32.067Z",
          "iopub.execute_input": "2020-05-10T09:54:32.086Z",
          "iopub.status.idle": "2020-05-10T09:54:32.197Z"
        }
      }
    },
    {
      "cell_type": "code",
      "source": [
        "f3 = x -> x^2"
      ],
      "outputs": [
        {
          "output_type": "execute_result",
          "execution_count": 10,
          "data": {
            "text/plain": [
              "#5 (generic function with 1 method)"
            ]
          },
          "metadata": {}
        }
      ],
      "execution_count": 10,
      "metadata": {
        "execution": {
          "iopub.status.busy": "2020-05-10T09:54:32.227Z",
          "iopub.execute_input": "2020-05-10T09:54:32.248Z",
          "iopub.status.idle": "2020-05-10T09:54:32.505Z"
        }
      }
    },
    {
      "cell_type": "code",
      "source": [
        "sayhi3(\"Chewbacca\")"
      ],
      "outputs": [
        {
          "output_type": "stream",
          "name": "stdout",
          "text": [
            "Hi Chewbacca, it's great to see you!\n"
          ]
        }
      ],
      "execution_count": 11,
      "metadata": {
        "execution": {
          "iopub.status.busy": "2020-05-10T09:54:32.533Z",
          "iopub.execute_input": "2020-05-10T09:54:32.551Z",
          "iopub.status.idle": "2020-05-10T09:54:32.591Z"
        }
      }
    },
    {
      "cell_type": "code",
      "source": [
        "f3(42)"
      ],
      "outputs": [
        {
          "output_type": "execute_result",
          "execution_count": 12,
          "data": {
            "text/plain": [
              "1764"
            ]
          },
          "metadata": {}
        }
      ],
      "execution_count": 12,
      "metadata": {
        "execution": {
          "iopub.status.busy": "2020-05-10T09:54:32.619Z",
          "iopub.execute_input": "2020-05-10T09:54:32.637Z",
          "iopub.status.idle": "2020-05-10T09:54:32.674Z"
        }
      }
    },
    {
      "cell_type": "markdown",
      "source": [
        "## Duck-typing in Julia\n",
        "*\"If it quacks like a duck, it's a duck.\"* <br><br>\n",
        "Julia functions will just work on whatever inputs make sense. <br><br>\n",
        "For example, `sayhi` works on the name of this minor tv character, written as an integer..."
      ],
      "metadata": {}
    },
    {
      "cell_type": "code",
      "source": [
        "sayhi(55595472)"
      ],
      "outputs": [
        {
          "output_type": "stream",
          "name": "stdout",
          "text": [
            "Hi 55595472, it's great to see you!\n"
          ]
        }
      ],
      "execution_count": 13,
      "metadata": {
        "execution": {
          "iopub.status.busy": "2020-05-10T09:54:32.703Z",
          "iopub.execute_input": "2020-05-10T09:54:32.721Z",
          "iopub.status.idle": "2020-05-10T09:54:32.761Z"
        }
      }
    },
    {
      "cell_type": "markdown",
      "source": [
        "And `f` will work on a matrix."
      ],
      "metadata": {}
    },
    {
      "cell_type": "code",
      "source": [
        "A = rand(3, 3)\n",
        "A"
      ],
      "outputs": [
        {
          "output_type": "execute_result",
          "execution_count": 14,
          "data": {
            "text/plain": [
              "3×3 Array{Float64,2}:\n",
              " 0.661641  0.953889  0.0494772\n",
              " 0.370483  0.470749  0.289692 \n",
              " 0.920749  0.796062  0.513905 "
            ]
          },
          "metadata": {}
        }
      ],
      "execution_count": 14,
      "metadata": {
        "execution": {
          "iopub.status.busy": "2020-05-10T09:54:32.793Z",
          "iopub.execute_input": "2020-05-10T09:54:32.814Z",
          "iopub.status.idle": "2020-05-10T09:54:35.171Z"
        }
      }
    },
    {
      "cell_type": "code",
      "source": [
        "f(A)"
      ],
      "outputs": [
        {
          "output_type": "execute_result",
          "execution_count": 15,
          "data": {
            "text/plain": [
              "3×3 Array{Float64,2}:\n",
              " 0.836724  1.11956   0.334497\n",
              " 0.686264  0.805617  0.303577\n",
              " 1.37731   1.66214   0.540267"
            ]
          },
          "metadata": {}
        }
      ],
      "execution_count": 15,
      "metadata": {
        "execution": {
          "iopub.status.busy": "2020-05-10T09:54:35.185Z",
          "iopub.execute_input": "2020-05-10T09:54:35.195Z",
          "iopub.status.idle": "2020-05-10T09:54:36.311Z"
        }
      }
    },
    {
      "cell_type": "markdown",
      "source": [
        "`f` will also work on a string like \"hi\" because `*` is defined for string inputs as string concatenation."
      ],
      "metadata": {}
    },
    {
      "cell_type": "code",
      "source": [
        "f(\"hi\")"
      ],
      "outputs": [
        {
          "output_type": "execute_result",
          "execution_count": 16,
          "data": {
            "text/plain": [
              "\"hihi\""
            ]
          },
          "metadata": {}
        }
      ],
      "execution_count": 16,
      "metadata": {
        "execution": {
          "iopub.status.busy": "2020-05-10T09:54:36.328Z",
          "iopub.execute_input": "2020-05-10T09:54:36.338Z",
          "iopub.status.idle": "2020-05-10T09:54:36.729Z"
        }
      }
    },
    {
      "cell_type": "markdown",
      "source": [
        "On the other hand, `f` will not work on a vector. Unlike `A^2`, which is well-defined, the meaning of `v^2` for a vector, `v`, is not a well-defined algebraic operation."
      ],
      "metadata": {}
    },
    {
      "cell_type": "code",
      "source": [
        "v = rand(3)"
      ],
      "outputs": [
        {
          "output_type": "execute_result",
          "execution_count": 17,
          "data": {
            "text/plain": [
              "3-element Array{Float64,1}:\n",
              " 0.8808428800234755\n",
              " 0.8716198189897852\n",
              " 0.2749188619482066"
            ]
          },
          "metadata": {}
        }
      ],
      "execution_count": 17,
      "metadata": {
        "execution": {
          "iopub.status.busy": "2020-05-10T09:54:36.743Z",
          "iopub.execute_input": "2020-05-10T09:54:36.754Z",
          "iopub.status.idle": "2020-05-10T09:54:37.468Z"
        }
      }
    },
    {
      "cell_type": "code",
      "source": [
        "f(v)"
      ],
      "outputs": [
        {
          "output_type": "error",
          "ename": "MethodError",
          "evalue": "MethodError: no method matching ^(::Array{Float64,1}, ::Int64)\nClosest candidates are:\n  ^(!Matched::Float16, ::Integer) at math.jl:795\n  ^(!Matched::Missing, ::Integer) at missing.jl:120\n  ^(!Matched::Missing, ::Number) at missing.jl:93\n  ...",
          "traceback": [
            "MethodError: no method matching ^(::Array{Float64,1}, ::Int64)\nClosest candidates are:\n  ^(!Matched::Float16, ::Integer) at math.jl:795\n  ^(!Matched::Missing, ::Integer) at missing.jl:120\n  ^(!Matched::Missing, ::Number) at missing.jl:93\n  ...",
            "",
            "Stacktrace:",
            " [1] macro expansion at .\\none:0 [inlined]",
            " [2] literal_pow at .\\none:0 [inlined]",
            " [3] f(::Array{Float64,1}) at .\\In[2]:2",
            " [4] top-level scope at In[18]:1"
          ]
        }
      ],
      "execution_count": 18,
      "metadata": {
        "execution": {
          "iopub.status.busy": "2020-05-10T09:54:37.484Z",
          "iopub.execute_input": "2020-05-10T09:54:37.494Z",
          "iopub.status.idle": "2020-05-10T09:54:39.644Z"
        }
      }
    },
    {
      "cell_type": "markdown",
      "source": [
        "## Mutating vs. non-mutating functions\n",
        "\n",
        "By convention, functions followed by `!` alter their contents and functions lacking `!` do not.\n",
        "\n",
        "For example, let's look at the difference between `sort` and `sort!`."
      ],
      "metadata": {}
    },
    {
      "cell_type": "code",
      "source": [
        "v = [3, 5, 2]"
      ],
      "outputs": [
        {
          "output_type": "execute_result",
          "execution_count": 19,
          "data": {
            "text/plain": [
              "3-element Array{Int64,1}:\n",
              " 3\n",
              " 5\n",
              " 2"
            ]
          },
          "metadata": {}
        }
      ],
      "execution_count": 19,
      "metadata": {
        "execution": {
          "iopub.status.busy": "2020-05-10T09:54:39.672Z",
          "iopub.execute_input": "2020-05-10T09:54:39.690Z",
          "iopub.status.idle": "2020-05-10T09:54:40.652Z"
        }
      }
    },
    {
      "cell_type": "code",
      "source": [
        "sort(v)"
      ],
      "outputs": [
        {
          "output_type": "execute_result",
          "execution_count": 20,
          "data": {
            "text/plain": [
              "3-element Array{Int64,1}:\n",
              " 2\n",
              " 3\n",
              " 5"
            ]
          },
          "metadata": {}
        }
      ],
      "execution_count": 20,
      "metadata": {
        "execution": {
          "iopub.status.busy": "2020-05-10T09:54:40.667Z",
          "iopub.execute_input": "2020-05-10T09:54:40.678Z",
          "iopub.status.idle": "2020-05-10T09:54:40.752Z"
        }
      }
    },
    {
      "cell_type": "code",
      "source": [
        "v"
      ],
      "outputs": [
        {
          "output_type": "execute_result",
          "execution_count": 21,
          "data": {
            "text/plain": [
              "3-element Array{Int64,1}:\n",
              " 3\n",
              " 5\n",
              " 2"
            ]
          },
          "metadata": {}
        }
      ],
      "execution_count": 21,
      "metadata": {
        "execution": {
          "iopub.status.busy": "2020-05-10T09:54:40.768Z",
          "iopub.execute_input": "2020-05-10T09:54:40.778Z",
          "iopub.status.idle": "2020-05-10T09:54:40.803Z"
        }
      }
    },
    {
      "cell_type": "markdown",
      "source": [
        "`sort(v)` returns a sorted array that contains the same elements as `v`, but `v` is left unchanged. <br><br>\n",
        "\n",
        "On the other hand, when we run `sort!(v)`, the contents of v are sorted within the array `v`."
      ],
      "metadata": {}
    },
    {
      "cell_type": "code",
      "source": [
        "sort!(v)"
      ],
      "outputs": [
        {
          "output_type": "execute_result",
          "execution_count": 22,
          "data": {
            "text/plain": [
              "3-element Array{Int64,1}:\n",
              " 2\n",
              " 3\n",
              " 5"
            ]
          },
          "metadata": {}
        }
      ],
      "execution_count": 22,
      "metadata": {
        "execution": {
          "iopub.status.busy": "2020-05-10T09:54:40.821Z",
          "iopub.execute_input": "2020-05-10T09:54:40.832Z",
          "iopub.status.idle": "2020-05-10T09:54:40.853Z"
        }
      }
    },
    {
      "cell_type": "code",
      "source": [
        "v"
      ],
      "outputs": [
        {
          "output_type": "execute_result",
          "execution_count": 23,
          "data": {
            "text/plain": [
              "3-element Array{Int64,1}:\n",
              " 2\n",
              " 3\n",
              " 5"
            ]
          },
          "metadata": {}
        }
      ],
      "execution_count": 23,
      "metadata": {
        "execution": {
          "iopub.status.busy": "2020-05-10T09:54:40.870Z",
          "iopub.execute_input": "2020-05-10T09:54:40.880Z",
          "iopub.status.idle": "2020-05-10T09:54:40.903Z"
        }
      }
    },
    {
      "cell_type": "markdown",
      "source": [
        "## Some higher order functions\n",
        "\n",
        "### map\n",
        "\n",
        "`map` is a \"higher-order\" function in Julia that *takes a function* as one of its input arguments.\n",
        "`map` then applies that function to every element of the data structure you pass it. For example, executing\n",
        "\n",
        "```julia\n",
        "map(f, [1, 2, 3])\n",
        "```\n",
        "will give you an output array where the function `f` has been applied to all elements of `[1, 2, 3]`\n",
        "```julia\n",
        "[f(1), f(2), f(3)]\n",
        "```"
      ],
      "metadata": {}
    },
    {
      "cell_type": "code",
      "source": [
        "map(f, [1, 2, 3])"
      ],
      "outputs": [
        {
          "output_type": "execute_result",
          "execution_count": 24,
          "data": {
            "text/plain": [
              "3-element Array{Int64,1}:\n",
              " 1\n",
              " 4\n",
              " 9"
            ]
          },
          "metadata": {}
        }
      ],
      "execution_count": 24,
      "metadata": {
        "execution": {
          "iopub.status.busy": "2020-05-10T09:54:40.922Z",
          "iopub.execute_input": "2020-05-10T09:54:40.932Z",
          "iopub.status.idle": "2020-05-10T09:54:40.952Z"
        }
      }
    },
    {
      "cell_type": "markdown",
      "source": [
        "Here we've squared all the elements of the vector `[1, 2, 3]`, rather than squaring the vector `[1, 2, 3]`.\n",
        "\n",
        "To do this, we could have passed to `map` an anonymous function rather than a named function, such as"
      ],
      "metadata": {}
    },
    {
      "cell_type": "code",
      "source": [
        "x -> x^3"
      ],
      "outputs": [
        {
          "output_type": "execute_result",
          "execution_count": 25,
          "data": {
            "text/plain": [
              "#7 (generic function with 1 method)"
            ]
          },
          "metadata": {}
        }
      ],
      "execution_count": 25,
      "metadata": {
        "execution": {
          "iopub.status.busy": "2020-05-10T09:54:40.969Z",
          "iopub.execute_input": "2020-05-10T09:54:40.979Z",
          "iopub.status.idle": "2020-05-10T09:54:41.048Z"
        }
      }
    },
    {
      "cell_type": "markdown",
      "source": [
        "via"
      ],
      "metadata": {}
    },
    {
      "cell_type": "code",
      "source": [
        "map(x -> x^3, [1, 2, 3])"
      ],
      "outputs": [
        {
          "output_type": "execute_result",
          "execution_count": 26,
          "data": {
            "text/plain": [
              "3-element Array{Int64,1}:\n",
              "  1\n",
              "  8\n",
              " 27"
            ]
          },
          "metadata": {}
        }
      ],
      "execution_count": 26,
      "metadata": {
        "execution": {
          "iopub.status.busy": "2020-05-10T09:54:41.068Z",
          "iopub.execute_input": "2020-05-10T09:54:41.079Z",
          "iopub.status.idle": "2020-05-10T09:54:41.104Z"
        }
      }
    },
    {
      "cell_type": "markdown",
      "source": [
        "and now we've cubed all the elements of `[1, 2, 3]`!"
      ],
      "metadata": {}
    },
    {
      "cell_type": "markdown",
      "source": [
        "### broadcast\n",
        "\n",
        "`broadcast` is another higher-order function like `map`. `broadcast` is a generalization of `map`, so it can do every thing `map` can do and more. The syntax for calling `broadcast` is the same as for calling `map`"
      ],
      "metadata": {}
    },
    {
      "cell_type": "code",
      "source": [
        "broadcast(f, [1, 2, 3])"
      ],
      "outputs": [
        {
          "output_type": "execute_result",
          "execution_count": 27,
          "data": {
            "text/plain": [
              "3-element Array{Int64,1}:\n",
              " 1\n",
              " 4\n",
              " 9"
            ]
          },
          "metadata": {}
        }
      ],
      "execution_count": 27,
      "metadata": {
        "execution": {
          "iopub.status.busy": "2020-05-10T09:54:41.120Z",
          "iopub.execute_input": "2020-05-10T09:54:41.131Z",
          "iopub.status.idle": "2020-05-10T09:54:41.152Z"
        }
      }
    },
    {
      "cell_type": "markdown",
      "source": [
        "and again, we've applied `f` (squared) to all the elements of `[1, 2, 3]` - this time by \"broadcasting\" `f`!\n",
        "\n",
        "Some syntactic sugar for calling `broadcast` is to place a `.` between the name of the function you want to `broadcast` and its input arguments. For example,\n",
        "\n",
        "```julia\n",
        "broadcast(f, [1, 2, 3])\n",
        "```\n",
        "is the same as\n",
        "```julia\n",
        "f.([1, 2, 3])\n",
        "```"
      ],
      "metadata": {}
    },
    {
      "cell_type": "code",
      "source": [
        "f.([1, 2, 3])"
      ],
      "outputs": [
        {
          "output_type": "execute_result",
          "execution_count": 28,
          "data": {
            "text/plain": [
              "3-element Array{Int64,1}:\n",
              " 1\n",
              " 4\n",
              " 9"
            ]
          },
          "metadata": {}
        }
      ],
      "execution_count": 28,
      "metadata": {
        "execution": {
          "iopub.status.busy": "2020-05-10T09:54:41.168Z",
          "iopub.execute_input": "2020-05-10T09:54:41.178Z",
          "iopub.status.idle": "2020-05-10T09:54:41.200Z"
        }
      }
    },
    {
      "cell_type": "markdown",
      "source": [
        "Notice again how different this is from calling\n",
        "```julia\n",
        "f([1, 2, 3])\n",
        "```\n",
        "We can square every element of a vector, but we can't square a vector!"
      ],
      "metadata": {}
    },
    {
      "cell_type": "markdown",
      "source": [
        "To drive home the point, let's look at the difference between\n",
        "\n",
        "```julia\n",
        "f(A)\n",
        "```\n",
        "and\n",
        "```julia\n",
        "f.(A)\n",
        "```\n",
        "for a matrix `A`:"
      ],
      "metadata": {}
    },
    {
      "cell_type": "code",
      "source": [
        "A = [i + 3*j for j in 0:2, i in 1:3]"
      ],
      "outputs": [
        {
          "output_type": "execute_result",
          "execution_count": 29,
          "data": {
            "text/plain": [
              "3×3 Array{Int64,2}:\n",
              " 1  2  3\n",
              " 4  5  6\n",
              " 7  8  9"
            ]
          },
          "metadata": {}
        }
      ],
      "execution_count": 29,
      "metadata": {
        "execution": {
          "iopub.status.busy": "2020-05-10T09:54:41.216Z",
          "iopub.execute_input": "2020-05-10T09:54:41.227Z",
          "iopub.status.idle": "2020-05-10T09:54:41.942Z"
        }
      }
    },
    {
      "cell_type": "code",
      "source": [
        "f(A)"
      ],
      "outputs": [
        {
          "output_type": "execute_result",
          "execution_count": 30,
          "data": {
            "text/plain": [
              "3×3 Array{Int64,2}:\n",
              "  30   36   42\n",
              "  66   81   96\n",
              " 102  126  150"
            ]
          },
          "metadata": {}
        }
      ],
      "execution_count": 30,
      "metadata": {
        "execution": {
          "iopub.status.busy": "2020-05-10T09:54:41.956Z",
          "iopub.execute_input": "2020-05-10T09:54:41.966Z",
          "iopub.status.idle": "2020-05-10T09:54:42.402Z"
        }
      }
    },
    {
      "cell_type": "markdown",
      "source": [
        "As before we see that for a matrix, `A`,\n",
        "```\n",
        "f(A) = A^2 = A * A\n",
        "```\n",
        "\n",
        "On the other hand,"
      ],
      "metadata": {}
    },
    {
      "cell_type": "code",
      "source": [
        "B = f.(A)"
      ],
      "outputs": [
        {
          "output_type": "execute_result",
          "execution_count": 31,
          "data": {
            "text/plain": [
              "3×3 Array{Int64,2}:\n",
              "  1   4   9\n",
              " 16  25  36\n",
              " 49  64  81"
            ]
          },
          "metadata": {}
        }
      ],
      "execution_count": 31,
      "metadata": {
        "execution": {
          "iopub.status.busy": "2020-05-10T09:54:42.418Z",
          "iopub.execute_input": "2020-05-10T09:54:42.428Z",
          "iopub.status.idle": "2020-05-10T09:54:42.454Z"
        }
      }
    },
    {
      "cell_type": "markdown",
      "source": [
        "contains the squares of all the entries of `A`.\n",
        "\n",
        "This dot syntax for broadcasting allows us to write relatively complex compound elementwise expressions in a way that looks natural/closer to mathematical notation. For example, we can write"
      ],
      "metadata": {}
    },
    {
      "cell_type": "code",
      "source": [
        "A .+ 2 .* f.(A) ./ A"
      ],
      "outputs": [
        {
          "output_type": "execute_result",
          "execution_count": 32,
          "data": {
            "text/plain": [
              "3×3 Array{Float64,2}:\n",
              "  3.0   6.0   9.0\n",
              " 12.0  15.0  18.0\n",
              " 21.0  24.0  27.0"
            ]
          },
          "metadata": {}
        }
      ],
      "execution_count": 32,
      "metadata": {
        "execution": {
          "iopub.status.busy": "2020-05-10T09:54:42.486Z",
          "iopub.execute_input": "2020-05-10T09:54:42.505Z",
          "iopub.status.idle": "2020-05-10T09:54:42.804Z"
        }
      }
    },
    {
      "cell_type": "markdown",
      "source": [
        "instead of"
      ],
      "metadata": {}
    },
    {
      "cell_type": "code",
      "source": [
        "broadcast(x -> x + 2 * f(x) / x, A)"
      ],
      "outputs": [
        {
          "output_type": "execute_result",
          "execution_count": 33,
          "data": {
            "text/plain": [
              "3×3 Array{Float64,2}:\n",
              "  3.0   6.0   9.0\n",
              " 12.0  15.0  18.0\n",
              " 21.0  24.0  27.0"
            ]
          },
          "metadata": {}
        }
      ],
      "execution_count": 33,
      "metadata": {
        "execution": {
          "iopub.status.busy": "2020-05-10T09:54:42.843Z",
          "iopub.execute_input": "2020-05-10T09:54:42.865Z",
          "iopub.status.idle": "2020-05-10T09:54:42.906Z"
        }
      }
    },
    {
      "cell_type": "markdown",
      "source": [
        "and the two will perform exactly the same."
      ],
      "metadata": {}
    },
    {
      "cell_type": "markdown",
      "source": [
        "### Exercises\n",
        "\n",
        "#### 6.1\n",
        "Write a function `add_one` that adds 1 to its input."
      ],
      "metadata": {}
    },
    {
      "cell_type": "code",
      "source": [
        "function add_one(x)\n",
        "  return x + 1\n",
        "end"
      ],
      "outputs": [
        {
          "output_type": "execute_result",
          "execution_count": 38,
          "data": {
            "text/plain": [
              "add_one (generic function with 1 method)"
            ]
          },
          "metadata": {}
        }
      ],
      "execution_count": 38,
      "metadata": {
        "collapsed": true,
        "outputExpanded": false,
        "jupyter": {
          "source_hidden": false,
          "outputs_hidden": false
        },
        "nteract": {
          "transient": {
            "deleting": false
          }
        },
        "execution": {
          "iopub.status.busy": "2020-05-10T10:54:03.755Z",
          "iopub.execute_input": "2020-05-10T10:54:03.768Z",
          "iopub.status.idle": "2020-05-10T10:54:03.951Z"
        }
      }
    },
    {
      "cell_type": "code",
      "source": [
        "@assert add_one(1) == 2"
      ],
      "outputs": [],
      "execution_count": 39,
      "metadata": {
        "execution": {
          "iopub.status.busy": "2020-05-10T10:54:06.606Z",
          "iopub.execute_input": "2020-05-10T10:54:06.617Z",
          "iopub.status.idle": "2020-05-10T10:54:06.639Z"
        }
      }
    },
    {
      "cell_type": "code",
      "source": [
        "@assert add_one(11) == 12"
      ],
      "outputs": [],
      "execution_count": 40,
      "metadata": {
        "execution": {
          "iopub.status.busy": "2020-05-10T10:54:10.907Z",
          "iopub.execute_input": "2020-05-10T10:54:10.917Z",
          "iopub.status.idle": "2020-05-10T10:54:10.936Z"
        }
      }
    },
    {
      "cell_type": "markdown",
      "source": [
        "#### 6.2\n",
        "Use `map` or `broadcast` to increment every element of matrix `A` by `1` and assign it to a variable `A1`."
      ],
      "metadata": {}
    },
    {
      "cell_type": "code",
      "source": [
        "A1 = map(add_one, A)"
      ],
      "outputs": [
        {
          "output_type": "execute_result",
          "execution_count": 44,
          "data": {
            "text/plain": [
              "3×3 Array{Int64,2}:\n",
              " 2  3   4\n",
              " 5  6   7\n",
              " 8  9  10"
            ]
          },
          "metadata": {}
        }
      ],
      "execution_count": 44,
      "metadata": {
        "collapsed": true,
        "outputExpanded": false,
        "jupyter": {
          "source_hidden": false,
          "outputs_hidden": false
        },
        "nteract": {
          "transient": {
            "deleting": false
          }
        },
        "execution": {
          "iopub.status.busy": "2020-05-10T10:56:39.109Z",
          "iopub.execute_input": "2020-05-10T10:56:39.124Z",
          "iopub.status.idle": "2020-05-10T10:56:39.151Z"
        }
      }
    },
    {
      "cell_type": "code",
      "source": [
        "A1 = add_one.(A)"
      ],
      "outputs": [
        {
          "output_type": "execute_result",
          "execution_count": 45,
          "data": {
            "text/plain": [
              "3×3 Array{Int64,2}:\n",
              " 2  3   4\n",
              " 5  6   7\n",
              " 8  9  10"
            ]
          },
          "metadata": {}
        }
      ],
      "execution_count": 45,
      "metadata": {
        "collapsed": true,
        "outputExpanded": false,
        "jupyter": {
          "source_hidden": false,
          "outputs_hidden": false
        },
        "nteract": {
          "transient": {
            "deleting": false
          }
        },
        "execution": {
          "iopub.status.busy": "2020-05-10T10:56:40.922Z",
          "iopub.execute_input": "2020-05-10T10:56:40.938Z",
          "iopub.status.idle": "2020-05-10T10:56:40.966Z"
        }
      }
    },
    {
      "cell_type": "markdown",
      "source": [
        "#### 6.3\n",
        "Use the broadcast dot syntax to increment every element of matrix `A1` by `1` and store it in variable `A2`"
      ],
      "metadata": {}
    },
    {
      "cell_type": "code",
      "source": [
        "A2 = add_one.(A1)"
      ],
      "outputs": [
        {
          "output_type": "execute_result",
          "execution_count": 46,
          "data": {
            "text/plain": [
              "3×3 Array{Int64,2}:\n",
              " 3   4   5\n",
              " 6   7   8\n",
              " 9  10  11"
            ]
          },
          "metadata": {}
        }
      ],
      "execution_count": 46,
      "metadata": {
        "collapsed": true,
        "outputExpanded": false,
        "jupyter": {
          "source_hidden": false,
          "outputs_hidden": false
        },
        "nteract": {
          "transient": {
            "deleting": false
          }
        },
        "execution": {
          "iopub.status.busy": "2020-05-10T10:56:44.478Z",
          "iopub.execute_input": "2020-05-10T10:56:44.491Z",
          "iopub.status.idle": "2020-05-10T10:56:44.518Z"
        }
      }
    },
    {
      "cell_type": "code",
      "source": [
        "@assert A2 == [3 4 5; 6 7 8;9 10 11]"
      ],
      "outputs": [],
      "execution_count": 47,
      "metadata": {
        "execution": {
          "iopub.status.busy": "2020-05-10T10:56:52.620Z",
          "iopub.execute_input": "2020-05-10T10:56:52.637Z",
          "iopub.status.idle": "2020-05-10T10:56:52.661Z"
        }
      }
    }
  ],
  "metadata": {
    "language_info": {
      "file_extension": ".jl",
      "name": "julia",
      "mimetype": "application/julia",
      "version": "1.0.5"
    },
    "kernelspec": {
      "name": "julia-1.0",
      "display_name": "Julia 1.0.3",
      "language": "julia"
    },
    "nteract": {
      "version": "0.23.1"
    }
  },
  "nbformat": 4,
  "nbformat_minor": 3
}