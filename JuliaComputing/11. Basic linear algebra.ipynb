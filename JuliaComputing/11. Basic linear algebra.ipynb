{
  "cells": [
    {
      "cell_type": "markdown",
      "source": [
        "# Basic linear algebra in Julia\n",
        "Author: Andreas Noack Jensen (MIT) (http://www.econ.ku.dk/phdstudent/noack/)\n",
        "(with edits from Jane Herriman)"
      ],
      "metadata": {}
    },
    {
      "cell_type": "markdown",
      "source": [
        "First let's define a random matrix"
      ],
      "metadata": {}
    },
    {
      "cell_type": "code",
      "source": [
        "A = rand(1:4,3,3)"
      ],
      "outputs": [
        {
          "output_type": "execute_result",
          "execution_count": 1,
          "data": {
            "text/plain": [
              "3×3 Array{Int64,2}:\n",
              " 3  1  3\n",
              " 3  2  3\n",
              " 2  1  4"
            ]
          },
          "metadata": {}
        }
      ],
      "execution_count": 1,
      "metadata": {
        "execution": {
          "iopub.status.busy": "2020-05-10T14:33:04.177Z",
          "iopub.execute_input": "2020-05-10T14:33:06.426Z",
          "iopub.status.idle": "2020-05-10T14:33:10.182Z"
        }
      }
    },
    {
      "cell_type": "markdown",
      "source": [
        "Define a vector of ones"
      ],
      "metadata": {}
    },
    {
      "cell_type": "code",
      "source": [
        "x = fill(1.0, (3,)) # = fill(1.0, 3)"
      ],
      "outputs": [
        {
          "output_type": "execute_result",
          "execution_count": 2,
          "data": {
            "text/plain": [
              "3-element Array{Float64,1}:\n",
              " 1.0\n",
              " 1.0\n",
              " 1.0"
            ]
          },
          "metadata": {}
        }
      ],
      "execution_count": 2,
      "metadata": {
        "execution": {
          "iopub.status.busy": "2020-05-10T14:33:10.225Z",
          "iopub.execute_input": "2020-05-10T14:33:10.245Z",
          "iopub.status.idle": "2020-05-10T14:33:11.839Z"
        }
      }
    },
    {
      "cell_type": "markdown",
      "source": [
        "Notice that $A$ has type Array{Int64,2} but $x$ has type Array{Float64,1}. Julia defines the aliases Vector{Type}=Array{Type,1} and Matrix{Type}=Array{Type,2}. \n",
        "\n",
        "Many of the basic operations are the same as in other languages\n",
        "#### Multiplication"
      ],
      "metadata": {}
    },
    {
      "cell_type": "code",
      "source": [
        "b = A*x"
      ],
      "outputs": [
        {
          "output_type": "execute_result",
          "execution_count": 3,
          "data": {
            "text/plain": [
              "3-element Array{Float64,1}:\n",
              " 7.0\n",
              " 8.0\n",
              " 7.0"
            ]
          },
          "metadata": {}
        }
      ],
      "execution_count": 3,
      "metadata": {
        "execution": {
          "iopub.status.busy": "2020-05-10T14:33:11.861Z",
          "iopub.execute_input": "2020-05-10T14:33:11.877Z",
          "iopub.status.idle": "2020-05-10T14:33:11.962Z"
        }
      }
    },
    {
      "cell_type": "markdown",
      "source": [
        "#### Transposition\n",
        "As in other languages `A'` is the conjugate transpose, or adjoint"
      ],
      "metadata": {}
    },
    {
      "cell_type": "code",
      "source": [
        "A'"
      ],
      "outputs": [
        {
          "output_type": "execute_result",
          "execution_count": 4,
          "data": {
            "text/plain": [
              "3×3 LinearAlgebra.Adjoint{Int64,Array{Int64,2}}:\n",
              " 3  3  2\n",
              " 1  2  1\n",
              " 3  3  4"
            ]
          },
          "metadata": {}
        }
      ],
      "execution_count": 4,
      "metadata": {
        "execution": {
          "iopub.status.busy": "2020-05-10T14:33:11.983Z",
          "iopub.execute_input": "2020-05-10T14:33:11.997Z",
          "iopub.status.idle": "2020-05-10T14:33:13.490Z"
        }
      }
    },
    {
      "cell_type": "markdown",
      "source": [
        "and we can get the transpose with"
      ],
      "metadata": {}
    },
    {
      "cell_type": "code",
      "source": [
        "transpose(A)"
      ],
      "outputs": [
        {
          "output_type": "execute_result",
          "execution_count": 5,
          "data": {
            "text/plain": [
              "3×3 LinearAlgebra.Transpose{Int64,Array{Int64,2}}:\n",
              " 3  3  2\n",
              " 1  2  1\n",
              " 3  3  4"
            ]
          },
          "metadata": {}
        }
      ],
      "execution_count": 5,
      "metadata": {
        "execution": {
          "iopub.status.busy": "2020-05-10T14:33:13.514Z",
          "iopub.execute_input": "2020-05-10T14:33:13.533Z",
          "iopub.status.idle": "2020-05-10T14:33:15.043Z"
        }
      }
    },
    {
      "cell_type": "markdown",
      "source": [
        "#### Transposed multiplication\n",
        "Julia allows us to write this without *"
      ],
      "metadata": {}
    },
    {
      "cell_type": "code",
      "source": [
        "A'A"
      ],
      "outputs": [
        {
          "output_type": "execute_result",
          "execution_count": 6,
          "data": {
            "text/plain": [
              "3×3 Array{Int64,2}:\n",
              " 22  11  26\n",
              " 11   6  13\n",
              " 26  13  34"
            ]
          },
          "metadata": {}
        }
      ],
      "execution_count": 6,
      "metadata": {
        "execution": {
          "iopub.status.busy": "2020-05-10T14:33:15.068Z",
          "iopub.execute_input": "2020-05-10T14:33:15.088Z",
          "iopub.status.idle": "2020-05-10T14:33:15.657Z"
        }
      }
    },
    {
      "cell_type": "markdown",
      "source": [
        "#### Solving linear systems \n",
        "The problem $Ax=b$ for ***square*** $A$ is solved by the \\ function."
      ],
      "metadata": {}
    },
    {
      "cell_type": "code",
      "source": [
        "A\\b"
      ],
      "outputs": [
        {
          "output_type": "execute_result",
          "execution_count": 7,
          "data": {
            "text/plain": [
              "3-element Array{Float64,1}:\n",
              " 0.9999999999999997\n",
              " 1.0               \n",
              " 1.0000000000000002"
            ]
          },
          "metadata": {}
        }
      ],
      "execution_count": 7,
      "metadata": {
        "execution": {
          "iopub.status.busy": "2020-05-10T14:33:15.678Z",
          "iopub.execute_input": "2020-05-10T14:33:15.695Z",
          "iopub.status.idle": "2020-05-10T14:33:18.396Z"
        }
      }
    },
    {
      "cell_type": "markdown",
      "source": [
        "`A\\b` gives us the *least squares solution* if we have an overdetermined linear system (a \"tall\" matrix)"
      ],
      "metadata": {}
    },
    {
      "cell_type": "code",
      "source": [
        "Atall = rand(3, 2)"
      ],
      "outputs": [
        {
          "output_type": "execute_result",
          "execution_count": 8,
          "data": {
            "text/plain": [
              "3×2 Array{Float64,2}:\n",
              " 0.6777     0.781782\n",
              " 0.31349    0.49033 \n",
              " 0.0699567  0.562507"
            ]
          },
          "metadata": {}
        }
      ],
      "execution_count": 8,
      "metadata": {
        "execution": {
          "iopub.status.busy": "2020-05-10T14:33:18.423Z",
          "iopub.execute_input": "2020-05-10T14:33:18.438Z",
          "iopub.status.idle": "2020-05-10T14:33:19.910Z"
        }
      }
    },
    {
      "cell_type": "code",
      "source": [
        "Atall\\b"
      ],
      "outputs": [
        {
          "output_type": "execute_result",
          "execution_count": 9,
          "data": {
            "text/plain": [
              "2-element Array{Float64,1}:\n",
              " -4.431949390951858\n",
              " 14.157647062824969"
            ]
          },
          "metadata": {}
        }
      ],
      "execution_count": 9,
      "metadata": {
        "execution": {
          "iopub.status.busy": "2020-05-10T14:33:19.936Z",
          "iopub.execute_input": "2020-05-10T14:33:19.959Z",
          "iopub.status.idle": "2020-05-10T14:33:20.238Z"
        }
      }
    },
    {
      "cell_type": "markdown",
      "source": [
        "and the *minimum norm least squares solution* if we have a rank-deficient least squares problem"
      ],
      "metadata": {}
    },
    {
      "cell_type": "code",
      "source": [
        "v = rand(3)\n",
        "rankdef = hcat(v, v)"
      ],
      "outputs": [
        {
          "output_type": "execute_result",
          "execution_count": 10,
          "data": {
            "text/plain": [
              "3×2 Array{Float64,2}:\n",
              " 0.360666  0.360666\n",
              " 0.387361  0.387361\n",
              " 0.904023  0.904023"
            ]
          },
          "metadata": {}
        }
      ],
      "execution_count": 10,
      "metadata": {
        "execution": {
          "iopub.status.busy": "2020-05-10T14:33:20.264Z",
          "iopub.execute_input": "2020-05-10T14:33:20.280Z",
          "iopub.status.idle": "2020-05-10T14:33:20.379Z"
        }
      }
    },
    {
      "cell_type": "code",
      "source": [
        "rankdef\\b"
      ],
      "outputs": [
        {
          "output_type": "execute_result",
          "execution_count": 11,
          "data": {
            "text/plain": [
              "2-element Array{Float64,1}:\n",
              " 5.44553531354096 \n",
              " 5.445535313540961"
            ]
          },
          "metadata": {}
        }
      ],
      "execution_count": 11,
      "metadata": {
        "execution": {
          "iopub.status.busy": "2020-05-10T14:33:20.401Z",
          "iopub.execute_input": "2020-05-10T14:33:20.416Z",
          "iopub.status.idle": "2020-05-10T14:33:20.453Z"
        }
      }
    },
    {
      "cell_type": "markdown",
      "source": [
        "Julia also gives us the minimum norm solution when we have an underdetermined solution (a \"short\" matrix)"
      ],
      "metadata": {}
    },
    {
      "cell_type": "code",
      "source": [
        "bshort = rand(2)\n",
        "Ashort = rand(2, 3)"
      ],
      "outputs": [
        {
          "output_type": "execute_result",
          "execution_count": 12,
          "data": {
            "text/plain": [
              "2×3 Array{Float64,2}:\n",
              " 0.99309   0.807182  0.952277\n",
              " 0.776093  0.918919  0.901754"
            ]
          },
          "metadata": {}
        }
      ],
      "execution_count": 12,
      "metadata": {
        "execution": {
          "iopub.status.busy": "2020-05-10T14:33:20.481Z",
          "iopub.execute_input": "2020-05-10T14:33:20.493Z",
          "iopub.status.idle": "2020-05-10T14:33:20.526Z"
        }
      }
    },
    {
      "cell_type": "code",
      "source": [
        "Ashort\\bshort"
      ],
      "outputs": [
        {
          "output_type": "execute_result",
          "execution_count": 13,
          "data": {
            "text/plain": [
              "3-element Array{Float64,1}:\n",
              " -0.045209201461404  \n",
              "  0.5011792662084933 \n",
              "  0.25081440108688285"
            ]
          },
          "metadata": {}
        }
      ],
      "execution_count": 13,
      "metadata": {
        "execution": {
          "iopub.status.busy": "2020-05-10T14:33:20.550Z",
          "iopub.execute_input": "2020-05-10T14:33:20.566Z",
          "iopub.status.idle": "2020-05-10T14:33:20.598Z"
        }
      }
    },
    {
      "cell_type": "markdown",
      "source": [
        "# The LinearAlgebra library\n",
        "\n",
        "While much of linear algebra is available in Julia by default (as shown above), there's a standard library named `LinearAlgebra` that brings in many more relevant names and functions. In particular, it provides factorizations and some structured matrix types.  As with all packages, you can bring these additional features into your session with a `using LinearAlgebra`."
      ],
      "metadata": {}
    },
    {
      "cell_type": "markdown",
      "source": [
        "### Exercises\n",
        "\n",
        "#### 10.1 \n",
        "Take the inner product (or \"dot\" product) of a vector `v` with itself and assign it to variable `dot_v`.\n",
        "\n"
      ],
      "metadata": {}
    },
    {
      "cell_type": "code",
      "source": [
        "v = [1,2,3]"
      ],
      "outputs": [
        {
          "output_type": "execute_result",
          "execution_count": 14,
          "data": {
            "text/plain": [
              "3-element Array{Int64,1}:\n",
              " 1\n",
              " 2\n",
              " 3"
            ]
          },
          "metadata": {}
        }
      ],
      "execution_count": 14,
      "metadata": {
        "execution": {
          "iopub.status.busy": "2020-05-10T14:33:20.618Z",
          "iopub.execute_input": "2020-05-10T14:33:20.631Z",
          "iopub.status.idle": "2020-05-10T14:33:21.771Z"
        }
      }
    },
    {
      "cell_type": "code",
      "source": [
        "using LinearAlgebra"
      ],
      "outputs": [],
      "execution_count": 24,
      "metadata": {
        "collapsed": true,
        "outputExpanded": false,
        "jupyter": {
          "source_hidden": false,
          "outputs_hidden": false
        },
        "nteract": {
          "transient": {
            "deleting": false
          }
        },
        "execution": {
          "iopub.status.busy": "2020-05-10T14:37:17.331Z",
          "iopub.execute_input": "2020-05-10T14:37:17.349Z",
          "iopub.status.idle": "2020-05-10T14:37:17.375Z"
        }
      }
    },
    {
      "cell_type": "code",
      "source": [
        "dot_v = dot(v, v)"
      ],
      "outputs": [
        {
          "output_type": "execute_result",
          "execution_count": 25,
          "data": {
            "text/plain": [
              "14"
            ]
          },
          "metadata": {}
        }
      ],
      "execution_count": 25,
      "metadata": {
        "execution": {
          "iopub.status.busy": "2020-05-10T14:37:19.509Z",
          "iopub.execute_input": "2020-05-10T14:37:19.524Z",
          "iopub.status.idle": "2020-05-10T14:37:20.082Z"
        }
      }
    },
    {
      "cell_type": "code",
      "source": [
        "@assert dot_v == 14"
      ],
      "outputs": [],
      "execution_count": 26,
      "metadata": {
        "deletable": false,
        "editable": false,
        "hide_input": true,
        "nbgrader": {
          "checksum": "b93dad361f66498eb2460d708f674220",
          "grade": true,
          "grade_id": "cell-913fef9b0d19cd52",
          "locked": true,
          "points": 1,
          "schema_version": 1,
          "solution": false
        },
        "execution": {
          "iopub.status.busy": "2020-05-10T14:37:24.970Z",
          "iopub.execute_input": "2020-05-10T14:37:24.986Z",
          "iopub.status.idle": "2020-05-10T14:37:25.008Z"
        }
      }
    },
    {
      "cell_type": "markdown",
      "source": [
        "#### 10.2 \n",
        "Take the outer product of a vector v with itself and assign it to variable `outer_v`"
      ],
      "metadata": {}
    },
    {
      "cell_type": "code",
      "source": [
        "outer_v = v*v'"
      ],
      "outputs": [
        {
          "output_type": "execute_result",
          "execution_count": 37,
          "data": {
            "text/plain": [
              "3×3 Array{Int64,2}:\n",
              " 1  2  3\n",
              " 2  4  6\n",
              " 3  6  9"
            ]
          },
          "metadata": {}
        }
      ],
      "execution_count": 37,
      "metadata": {
        "execution": {
          "iopub.status.busy": "2020-05-10T14:43:47.519Z",
          "iopub.execute_input": "2020-05-10T14:43:47.538Z",
          "iopub.status.idle": "2020-05-10T14:43:47.566Z"
        }
      }
    },
    {
      "cell_type": "code",
      "source": [
        "@assert outer_v == [1 2 3\n",
        "                    2 4 6\n",
        "                    3 6 9]"
      ],
      "outputs": [],
      "execution_count": 38,
      "metadata": {
        "execution": {
          "iopub.status.busy": "2020-05-10T14:43:53.461Z",
          "iopub.execute_input": "2020-05-10T14:43:53.476Z",
          "iopub.status.idle": "2020-05-10T14:43:53.497Z"
        }
      }
    },
    {
      "cell_type": "code",
      "source": [
        "cross_v = cross(v, v)"
      ],
      "outputs": [
        {
          "output_type": "execute_result",
          "execution_count": 40,
          "data": {
            "text/plain": [
              "3-element Array{Int64,1}:\n",
              " 0\n",
              " 0\n",
              " 0"
            ]
          },
          "metadata": {}
        }
      ],
      "execution_count": 40,
      "metadata": {
        "collapsed": true,
        "outputExpanded": false,
        "jupyter": {
          "source_hidden": false,
          "outputs_hidden": false
        },
        "nteract": {
          "transient": {
            "deleting": false
          }
        },
        "execution": {
          "iopub.status.busy": "2020-05-10T14:45:29.913Z",
          "iopub.execute_input": "2020-05-10T14:45:29.930Z",
          "iopub.status.idle": "2020-05-10T14:45:29.961Z"
        }
      }
    },
    {
      "cell_type": "code",
      "source": [
        "@assert cross_v == [0, 0, 0]"
      ],
      "outputs": [],
      "execution_count": 41,
      "metadata": {
        "deletable": false,
        "editable": false,
        "hide_input": true,
        "nbgrader": {
          "checksum": "01642581e27c0ac19752cd90d11ac2ae",
          "grade": true,
          "grade_id": "cell-e6b6970ffe104df5",
          "locked": true,
          "points": 1,
          "schema_version": 1,
          "solution": false
        },
        "execution": {
          "iopub.status.busy": "2020-05-10T14:45:33.190Z",
          "iopub.execute_input": "2020-05-10T14:45:33.205Z",
          "iopub.status.idle": "2020-05-10T14:45:33.224Z"
        }
      }
    },
    {
      "cell_type": "markdown",
      "source": [
        "Please click on `Validate` on the top, once you are done with the exercises."
      ],
      "metadata": {}
    }
  ],
  "metadata": {
    "kernelspec": {
      "display_name": "Julia 1.0.5",
      "language": "julia",
      "name": "julia-1.0"
    },
    "language": "Julia",
    "language_info": {
      "file_extension": ".jl",
      "name": "julia",
      "mimetype": "application/julia",
      "version": "1.0.5"
    },
    "nteract": {
      "version": "0.23.1"
    }
  },
  "nbformat": 4,
  "nbformat_minor": 1
}