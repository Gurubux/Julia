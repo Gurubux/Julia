{
  "cells": [
    {
      "cell_type": "markdown",
      "source": [
        "# Factorizations and other fun\n",
        "Based on work by Andreas Noack\n",
        "\n",
        "## Outline\n",
        " - Factorizations\n",
        " - Special matrix structures\n",
        " - Generic linear algebra"
      ],
      "metadata": {}
    },
    {
      "cell_type": "markdown",
      "source": [
        "Before we get started, let's set up a linear system and use `LinearAlgebra` to bring in the factorizations and special matrix structures."
      ],
      "metadata": {}
    },
    {
      "cell_type": "code",
      "source": [
        "using LinearAlgebra\n",
        "A = rand(3, 3)\n",
        "x = fill(1, (3,))\n",
        "b = A * x"
      ],
      "outputs": [
        {
          "output_type": "execute_result",
          "execution_count": 1,
          "data": {
            "text/plain": [
              "3-element Array{Float64,1}:\n",
              " 1.9311292914885596\n",
              " 1.0568200799771357\n",
              " 1.3004166248254678"
            ]
          },
          "metadata": {}
        }
      ],
      "execution_count": 1,
      "metadata": {
        "execution": {
          "iopub.status.busy": "2020-05-10T14:50:39.026Z",
          "iopub.execute_input": "2020-05-10T14:50:41.478Z",
          "iopub.status.idle": "2020-05-10T14:50:45.906Z"
        }
      }
    },
    {
      "cell_type": "markdown",
      "source": [
        "## Factorizations\n",
        "\n",
        "#### LU factorizations\n",
        "In Julia we can perform an LU factorization\n",
        "```julia\n",
        "PA = LU\n",
        "```\n",
        "where `P` is a permutation matrix, `L` is lower triangular unit diagonal and `U` is upper triangular, using `lufact`.\n",
        "\n",
        "Julia allows computing the LU factorization and defines a composite factorization type for storing it."
      ],
      "metadata": {}
    },
    {
      "cell_type": "code",
      "source": [
        "Alu = lu(A)"
      ],
      "outputs": [
        {
          "output_type": "execute_result",
          "execution_count": 2,
          "data": {
            "text/plain": [
              "LU{Float64,Array{Float64,2}}\n",
              "L factor:\n",
              "3×3 Array{Float64,2}:\n",
              " 1.0        0.0       0.0\n",
              " 0.0443581  1.0       0.0\n",
              " 0.621199   0.541644  1.0\n",
              "U factor:\n",
              "3×3 Array{Float64,2}:\n",
              " 0.98038  0.272464  0.0475729\n",
              " 0.0      0.710901  0.288235 \n",
              " 0.0      0.0       0.582135 "
            ]
          },
          "metadata": {}
        }
      ],
      "execution_count": 2,
      "metadata": {
        "execution": {
          "iopub.status.busy": "2020-05-10T14:50:45.941Z",
          "iopub.execute_input": "2020-05-10T14:50:45.969Z",
          "iopub.status.idle": "2020-05-10T14:50:48.184Z"
        }
      }
    },
    {
      "cell_type": "code",
      "source": [
        "typeof(Alu)"
      ],
      "outputs": [
        {
          "output_type": "execute_result",
          "execution_count": 3,
          "data": {
            "text/plain": [
              "LU{Float64,Array{Float64,2}}"
            ]
          },
          "metadata": {}
        }
      ],
      "execution_count": 3,
      "metadata": {
        "execution": {
          "iopub.status.busy": "2020-05-10T14:50:48.219Z",
          "iopub.execute_input": "2020-05-10T14:50:48.240Z",
          "iopub.status.idle": "2020-05-10T14:50:48.871Z"
        }
      }
    },
    {
      "cell_type": "markdown",
      "source": [
        "The different parts of the factorization can be extracted by accessing their special properties"
      ],
      "metadata": {}
    },
    {
      "cell_type": "code",
      "source": [
        "Alu.P"
      ],
      "outputs": [
        {
          "output_type": "execute_result",
          "execution_count": 4,
          "data": {
            "text/plain": [
              "3×3 Array{Float64,2}:\n",
              " 0.0  0.0  1.0\n",
              " 0.0  1.0  0.0\n",
              " 1.0  0.0  0.0"
            ]
          },
          "metadata": {}
        }
      ],
      "execution_count": 4,
      "metadata": {
        "execution": {
          "iopub.status.busy": "2020-05-10T14:50:48.913Z",
          "iopub.execute_input": "2020-05-10T14:50:48.936Z",
          "iopub.status.idle": "2020-05-10T14:50:49.495Z"
        }
      }
    },
    {
      "cell_type": "code",
      "source": [
        "Alu.L"
      ],
      "outputs": [
        {
          "output_type": "execute_result",
          "execution_count": 5,
          "data": {
            "text/plain": [
              "3×3 Array{Float64,2}:\n",
              " 1.0        0.0       0.0\n",
              " 0.0443581  1.0       0.0\n",
              " 0.621199   0.541644  1.0"
            ]
          },
          "metadata": {}
        }
      ],
      "execution_count": 5,
      "metadata": {
        "execution": {
          "iopub.status.busy": "2020-05-10T14:50:49.527Z",
          "iopub.execute_input": "2020-05-10T14:50:49.548Z",
          "iopub.status.idle": "2020-05-10T14:50:49.589Z"
        }
      }
    },
    {
      "cell_type": "code",
      "source": [
        "Alu.U"
      ],
      "outputs": [
        {
          "output_type": "execute_result",
          "execution_count": 6,
          "data": {
            "text/plain": [
              "3×3 Array{Float64,2}:\n",
              " 0.98038  0.272464  0.0475729\n",
              " 0.0      0.710901  0.288235 \n",
              " 0.0      0.0       0.582135 "
            ]
          },
          "metadata": {}
        }
      ],
      "execution_count": 6,
      "metadata": {
        "execution": {
          "iopub.status.busy": "2020-05-10T14:50:49.630Z",
          "iopub.execute_input": "2020-05-10T14:50:49.649Z",
          "iopub.status.idle": "2020-05-10T14:50:49.701Z"
        }
      }
    },
    {
      "cell_type": "markdown",
      "source": [
        "Julia can dispatch methods on factorization objects.\n",
        "\n",
        "For example, we can solve the linear system using either the original matrix or the factorization object."
      ],
      "metadata": {}
    },
    {
      "cell_type": "code",
      "source": [
        "A\\b"
      ],
      "outputs": [
        {
          "output_type": "execute_result",
          "execution_count": 7,
          "data": {
            "text/plain": [
              "3-element Array{Float64,1}:\n",
              " 1.0               \n",
              " 1.0000000000000002\n",
              " 0.9999999999999998"
            ]
          },
          "metadata": {}
        }
      ],
      "execution_count": 7,
      "metadata": {
        "execution": {
          "iopub.status.busy": "2020-05-10T14:50:49.731Z",
          "iopub.execute_input": "2020-05-10T14:50:49.755Z",
          "iopub.status.idle": "2020-05-10T14:50:51.418Z"
        }
      }
    },
    {
      "cell_type": "code",
      "source": [
        "Alu\\b"
      ],
      "outputs": [
        {
          "output_type": "execute_result",
          "execution_count": 8,
          "data": {
            "text/plain": [
              "3-element Array{Float64,1}:\n",
              " 1.0               \n",
              " 1.0000000000000002\n",
              " 0.9999999999999998"
            ]
          },
          "metadata": {}
        }
      ],
      "execution_count": 8,
      "metadata": {
        "execution": {
          "iopub.status.busy": "2020-05-10T14:50:51.447Z",
          "iopub.execute_input": "2020-05-10T14:50:51.468Z",
          "iopub.status.idle": "2020-05-10T14:50:51.509Z"
        }
      }
    },
    {
      "cell_type": "markdown",
      "source": [
        "Similarly, we can calculate the determinant of `A` using either `A` or the factorization object"
      ],
      "metadata": {}
    },
    {
      "cell_type": "code",
      "source": [
        "det(A) ≈ det(Alu)"
      ],
      "outputs": [
        {
          "output_type": "execute_result",
          "execution_count": 9,
          "data": {
            "text/plain": [
              "true"
            ]
          },
          "metadata": {}
        }
      ],
      "execution_count": 9,
      "metadata": {
        "execution": {
          "iopub.status.busy": "2020-05-10T14:50:51.536Z",
          "iopub.execute_input": "2020-05-10T14:50:51.555Z",
          "iopub.status.idle": "2020-05-10T14:50:52.181Z"
        }
      }
    },
    {
      "cell_type": "markdown",
      "source": [
        "#### QR factorizations\n",
        "\n",
        "In Julia we can perform a QR factorization\n",
        "```\n",
        "A=QR\n",
        "```\n",
        "\n",
        "where `Q` is unitary/orthogonal and `R` is upper triangular, using `qrfact`."
      ],
      "metadata": {}
    },
    {
      "cell_type": "code",
      "source": [
        "Aqr = qr(A)"
      ],
      "outputs": [
        {
          "output_type": "execute_result",
          "execution_count": 10,
          "data": {
            "text/plain": [
              "LinearAlgebra.QRCompactWY{Float64,Array{Float64,2}}\n",
              "Q factor:\n",
              "3×3 LinearAlgebra.QRCompactWYQ{Float64,Array{Float64,2}}:\n",
              " -0.527301   -0.340427  -0.7785  \n",
              " -0.0376531  -0.905967   0.42167 \n",
              " -0.848844    0.25166    0.464899\n",
              "R factor:\n",
              "3×3 Array{Float64,2}:\n",
              " -1.15496  -0.550791  -0.45618 \n",
              "  0.0      -0.775136  -0.512454\n",
              "  0.0       0.0       -0.453192"
            ]
          },
          "metadata": {}
        }
      ],
      "execution_count": 10,
      "metadata": {
        "execution": {
          "iopub.status.busy": "2020-05-10T14:50:52.208Z",
          "iopub.execute_input": "2020-05-10T14:50:52.227Z",
          "iopub.status.idle": "2020-05-10T14:50:54.617Z"
        }
      }
    },
    {
      "cell_type": "markdown",
      "source": [
        "Similarly to the LU factorization, the matrices `Q` and `R` can be extracted from the QR factorization object via"
      ],
      "metadata": {}
    },
    {
      "cell_type": "code",
      "source": [
        "Aqr.Q"
      ],
      "outputs": [
        {
          "output_type": "execute_result",
          "execution_count": 11,
          "data": {
            "text/plain": [
              "3×3 LinearAlgebra.QRCompactWYQ{Float64,Array{Float64,2}}:\n",
              " -0.527301   -0.340427  -0.7785  \n",
              " -0.0376531  -0.905967   0.42167 \n",
              " -0.848844    0.25166    0.464899"
            ]
          },
          "metadata": {}
        }
      ],
      "execution_count": 11,
      "metadata": {
        "execution": {
          "iopub.status.busy": "2020-05-10T14:50:54.658Z",
          "iopub.execute_input": "2020-05-10T14:50:54.680Z",
          "iopub.status.idle": "2020-05-10T14:50:55.237Z"
        }
      }
    },
    {
      "cell_type": "code",
      "source": [
        "Aqr.R"
      ],
      "outputs": [
        {
          "output_type": "execute_result",
          "execution_count": 12,
          "data": {
            "text/plain": [
              "3×3 Array{Float64,2}:\n",
              " -1.15496  -0.550791  -0.45618 \n",
              "  0.0      -0.775136  -0.512454\n",
              "  0.0       0.0       -0.453192"
            ]
          },
          "metadata": {}
        }
      ],
      "execution_count": 12,
      "metadata": {
        "execution": {
          "iopub.status.busy": "2020-05-10T14:50:55.277Z",
          "iopub.execute_input": "2020-05-10T14:50:55.306Z",
          "iopub.status.idle": "2020-05-10T14:50:55.348Z"
        }
      }
    },
    {
      "cell_type": "markdown",
      "source": [
        "#### Eigendecompositions"
      ],
      "metadata": {}
    },
    {
      "cell_type": "markdown",
      "source": [
        "The results from eigendecompositions, singular value decompositions, Hessenberg factorizations, and Schur decompositions are all stored in `Factorization` types.\n",
        "\n",
        "The eigendecomposition can be computed"
      ],
      "metadata": {}
    },
    {
      "cell_type": "code",
      "source": [
        "Asym = A + A'\n",
        "AsymEig = eigen(Asym)"
      ],
      "outputs": [
        {
          "output_type": "execute_result",
          "execution_count": 13,
          "data": {
            "text/plain": [
              "Eigen{Float64,Float64,Array{Float64,2},Array{Float64,1}}\n",
              "eigenvalues:\n",
              "3-element Array{Float64,1}:\n",
              " -1.1838397172036346\n",
              "  1.0047973676348416\n",
              "  2.9381849553335604\n",
              "eigenvectors:\n",
              "3×3 Array{Float64,2}:\n",
              " -0.581133    0.411943  -0.701846\n",
              " -0.0418332  -0.876402  -0.47976 \n",
              "  0.812733    0.249444  -0.526539"
            ]
          },
          "metadata": {}
        }
      ],
      "execution_count": 13,
      "metadata": {
        "execution": {
          "iopub.status.busy": "2020-05-10T14:50:55.376Z",
          "iopub.execute_input": "2020-05-10T14:50:55.400Z",
          "iopub.status.idle": "2020-05-10T14:50:57.144Z"
        }
      }
    },
    {
      "cell_type": "markdown",
      "source": [
        "The values and the vectors can be extracted from the Eigen type by special indexing"
      ],
      "metadata": {}
    },
    {
      "cell_type": "code",
      "source": [
        "AsymEig.values"
      ],
      "outputs": [
        {
          "output_type": "execute_result",
          "execution_count": 14,
          "data": {
            "text/plain": [
              "3-element Array{Float64,1}:\n",
              " -1.1838397172036346\n",
              "  1.0047973676348416\n",
              "  2.9381849553335604"
            ]
          },
          "metadata": {}
        }
      ],
      "execution_count": 14,
      "metadata": {
        "execution": {
          "iopub.status.busy": "2020-05-10T14:50:57.178Z",
          "iopub.execute_input": "2020-05-10T14:50:57.198Z",
          "iopub.status.idle": "2020-05-10T14:50:57.241Z"
        }
      }
    },
    {
      "cell_type": "code",
      "source": [
        "AsymEig.vectors"
      ],
      "outputs": [
        {
          "output_type": "execute_result",
          "execution_count": 15,
          "data": {
            "text/plain": [
              "3×3 Array{Float64,2}:\n",
              " -0.581133    0.411943  -0.701846\n",
              " -0.0418332  -0.876402  -0.47976 \n",
              "  0.812733    0.249444  -0.526539"
            ]
          },
          "metadata": {}
        }
      ],
      "execution_count": 15,
      "metadata": {
        "execution": {
          "iopub.status.busy": "2020-05-10T14:50:57.280Z",
          "iopub.execute_input": "2020-05-10T14:50:57.301Z",
          "iopub.status.idle": "2020-05-10T14:50:57.350Z"
        }
      }
    },
    {
      "cell_type": "markdown",
      "source": [
        "Once again, when the factorization is stored in a type, we can dispatch on it and write specialized methods that exploit the properties of the factorization, e.g. that $A^{-1}=(V\\Lambda V^{-1})^{-1}=V\\Lambda^{-1}V^{-1}$."
      ],
      "metadata": {}
    },
    {
      "cell_type": "code",
      "source": [
        "inv(AsymEig)*Asym"
      ],
      "outputs": [
        {
          "output_type": "execute_result",
          "execution_count": 16,
          "data": {
            "text/plain": [
              "3×3 Array{Float64,2}:\n",
              "  1.0           4.44089e-16  -2.79637e-15\n",
              "  8.32667e-17   1.0           4.30211e-16\n",
              " -2.22045e-15  -2.77556e-16   1.0        "
            ]
          },
          "metadata": {}
        }
      ],
      "execution_count": 16,
      "metadata": {
        "execution": {
          "iopub.status.busy": "2020-05-10T14:50:57.381Z",
          "iopub.execute_input": "2020-05-10T14:50:57.400Z",
          "iopub.status.idle": "2020-05-10T14:50:59.013Z"
        }
      }
    },
    {
      "cell_type": "markdown",
      "source": [
        "## Special matrix structures\n",
        "Matrix structure is very important in linear algebra. To see *how* important it is, let's work with a larger linear system"
      ],
      "metadata": {}
    },
    {
      "cell_type": "code",
      "source": [
        "n = 1000\n",
        "A = randn(n,n);"
      ],
      "outputs": [],
      "execution_count": 17,
      "metadata": {
        "execution": {
          "iopub.status.busy": "2020-05-10T14:50:59.041Z",
          "iopub.execute_input": "2020-05-10T14:50:59.062Z",
          "iopub.status.idle": "2020-05-10T14:50:59.322Z"
        }
      }
    },
    {
      "cell_type": "markdown",
      "source": [
        "Julia can often infer special matrix structure"
      ],
      "metadata": {}
    },
    {
      "cell_type": "code",
      "source": [
        "Asym = A + A'\n",
        "issymmetric(Asym)"
      ],
      "outputs": [
        {
          "output_type": "execute_result",
          "execution_count": 18,
          "data": {
            "text/plain": [
              "true"
            ]
          },
          "metadata": {}
        }
      ],
      "execution_count": 18,
      "metadata": {
        "execution": {
          "iopub.status.busy": "2020-05-10T14:50:59.353Z",
          "iopub.execute_input": "2020-05-10T14:50:59.373Z",
          "iopub.status.idle": "2020-05-10T14:50:59.418Z"
        }
      }
    },
    {
      "cell_type": "markdown",
      "source": [
        "but sometimes floating point error might get in the way."
      ],
      "metadata": {}
    },
    {
      "cell_type": "code",
      "source": [
        "Asym_noisy = copy(Asym)\n",
        "Asym_noisy[1,2] += 5eps()"
      ],
      "outputs": [
        {
          "output_type": "execute_result",
          "execution_count": 19,
          "data": {
            "text/plain": [
              "-0.051875328812876376"
            ]
          },
          "metadata": {}
        }
      ],
      "execution_count": 19,
      "metadata": {
        "execution": {
          "iopub.status.busy": "2020-05-10T14:50:59.453Z",
          "iopub.execute_input": "2020-05-10T14:50:59.476Z",
          "iopub.status.idle": "2020-05-10T14:51:00.124Z"
        }
      }
    },
    {
      "cell_type": "code",
      "source": [
        "issymmetric(Asym_noisy)"
      ],
      "outputs": [
        {
          "output_type": "execute_result",
          "execution_count": 20,
          "data": {
            "text/plain": [
              "false"
            ]
          },
          "metadata": {}
        }
      ],
      "execution_count": 20,
      "metadata": {
        "execution": {
          "iopub.status.busy": "2020-05-10T14:51:00.161Z",
          "iopub.execute_input": "2020-05-10T14:51:00.189Z",
          "iopub.status.idle": "2020-05-10T14:51:00.238Z"
        }
      }
    },
    {
      "cell_type": "markdown",
      "source": [
        "Luckily we can declare structure explicitly with, for example, `Diagonal`, `Triangular`, `Symmetric`, `Hermitian`, `Tridiagonal` and `SymTridiagonal`."
      ],
      "metadata": {}
    },
    {
      "cell_type": "code",
      "source": [
        "Asym_explicit = Symmetric(Asym_noisy);"
      ],
      "outputs": [],
      "execution_count": 21,
      "metadata": {
        "execution": {
          "iopub.status.busy": "2020-05-10T14:51:00.273Z",
          "iopub.execute_input": "2020-05-10T14:51:00.297Z",
          "iopub.status.idle": "2020-05-10T14:51:00.324Z"
        }
      }
    },
    {
      "cell_type": "markdown",
      "source": [
        "Let's compare how long it takes Julia to compute the eigenvalues of `Asym`, `Asym_noisy`, and `Asym_explicit`"
      ],
      "metadata": {}
    },
    {
      "cell_type": "code",
      "source": [
        "@time eigvals(Asym);"
      ],
      "outputs": [
        {
          "output_type": "stream",
          "name": "stdout",
          "text": [
            "  0.596791 seconds (106.89 k allocations: 13.090 MiB, 15.94% gc time)\n"
          ]
        }
      ],
      "execution_count": 22,
      "metadata": {
        "execution": {
          "iopub.status.busy": "2020-05-10T14:51:00.351Z",
          "iopub.execute_input": "2020-05-10T14:51:00.369Z",
          "iopub.status.idle": "2020-05-10T14:51:00.965Z"
        }
      }
    },
    {
      "cell_type": "code",
      "source": [
        "@time eigvals(Asym_noisy);"
      ],
      "outputs": [
        {
          "output_type": "stream",
          "name": "stdout",
          "text": [
            "  1.552526 seconds (18 allocations: 7.921 MiB)\n"
          ]
        }
      ],
      "execution_count": 23,
      "metadata": {
        "execution": {
          "iopub.status.busy": "2020-05-10T14:51:01.009Z",
          "iopub.execute_input": "2020-05-10T14:51:01.042Z",
          "iopub.status.idle": "2020-05-10T14:51:02.555Z"
        }
      }
    },
    {
      "cell_type": "code",
      "source": [
        "@time eigvals(Asym_explicit);"
      ],
      "outputs": [
        {
          "output_type": "stream",
          "name": "stdout",
          "text": [
            "  0.289091 seconds (7.47 k allocations: 8.376 MiB)\n"
          ]
        }
      ],
      "execution_count": 24,
      "metadata": {
        "execution": {
          "iopub.status.busy": "2020-05-10T14:51:02.594Z",
          "iopub.execute_input": "2020-05-10T14:51:02.618Z",
          "iopub.status.idle": "2020-05-10T14:51:02.875Z"
        }
      }
    },
    {
      "cell_type": "markdown",
      "source": [
        "In this example, using `Symmetric()` on `Asym_noisy` made our calculations about `5x` more efficient :)"
      ],
      "metadata": {}
    },
    {
      "cell_type": "markdown",
      "source": [
        "#### A big problem\n",
        "Using the `Tridiagonal` and `SymTridiagonal` types to store tridiagonal matrices makes it possible to work with potentially very large tridiagonal problems. The following problem would not be possible to solve on a laptop if the matrix had to be stored as a (dense) `Matrix` type."
      ],
      "metadata": {}
    },
    {
      "cell_type": "code",
      "source": [
        "n = 1_000_000;\n",
        "A = SymTridiagonal(randn(n), randn(n-1));\n",
        "@time eigmax(A)"
      ],
      "outputs": [
        {
          "output_type": "stream",
          "name": "stdout",
          "text": [
            "  1.455054 seconds (507.46 k allocations: 208.096 MiB, 6.63% gc time)\n"
          ]
        },
        {
          "output_type": "execute_result",
          "execution_count": 25,
          "data": {
            "text/plain": [
              "7.339490370308159"
            ]
          },
          "metadata": {}
        }
      ],
      "execution_count": 25,
      "metadata": {
        "execution": {
          "iopub.status.busy": "2020-05-10T14:51:02.902Z",
          "iopub.execute_input": "2020-05-10T14:51:02.919Z",
          "iopub.status.idle": "2020-05-10T14:51:04.515Z"
        }
      }
    },
    {
      "cell_type": "markdown",
      "source": [
        "## Generic linear algebra\n",
        "The usual way of adding support for numerical linear algebra is by wrapping BLAS and LAPACK subroutines. For matrices with elements of `Float32`, `Float64`, `Complex{Float32}` or `Complex{Float64}` this is also what Julia does.\n",
        "\n",
        "However, Julia also supports generic linear algebra, allowing you to, for example, work with matrices and vectors of rational numbers."
      ],
      "metadata": {}
    },
    {
      "cell_type": "markdown",
      "source": [
        "#### Rational numbers\n",
        "Julia has rational numbers built in. To construct a rational number, use double forward slashes:"
      ],
      "metadata": {}
    },
    {
      "cell_type": "code",
      "source": [
        "1//2"
      ],
      "outputs": [
        {
          "output_type": "execute_result",
          "execution_count": 26,
          "data": {
            "text/plain": [
              "1//2"
            ]
          },
          "metadata": {}
        }
      ],
      "execution_count": 26,
      "metadata": {
        "execution": {
          "iopub.status.busy": "2020-05-10T14:51:04.542Z",
          "iopub.execute_input": "2020-05-10T14:51:04.560Z",
          "iopub.status.idle": "2020-05-10T14:51:05.227Z"
        }
      }
    },
    {
      "cell_type": "markdown",
      "source": [
        "#### Example: Rational linear system of equations\n",
        "The following example shows how linear system of equations with rational elements can be solved without promoting to floating point element types. Overflow can easily become a problem when working with rational numbers so we use `BigInt`s."
      ],
      "metadata": {}
    },
    {
      "cell_type": "code",
      "source": [
        "Arational = Matrix{Rational{BigInt}}(rand(1:10, 3, 3))/10"
      ],
      "outputs": [
        {
          "output_type": "execute_result",
          "execution_count": 27,
          "data": {
            "text/plain": [
              "3×3 Array{Rational{BigInt},2}:\n",
              " 1//10  7//10  3//10\n",
              " 2//5   4//5   1//2 \n",
              " 7//10  1//1   3//10"
            ]
          },
          "metadata": {}
        }
      ],
      "execution_count": 27,
      "metadata": {
        "execution": {
          "iopub.status.busy": "2020-05-10T14:51:05.259Z",
          "iopub.execute_input": "2020-05-10T14:51:05.280Z",
          "iopub.status.idle": "2020-05-10T14:51:07.526Z"
        }
      }
    },
    {
      "cell_type": "code",
      "source": [
        "x = fill(1, 3)\n",
        "b = Arational*x"
      ],
      "outputs": [
        {
          "output_type": "execute_result",
          "execution_count": 28,
          "data": {
            "text/plain": [
              "3-element Array{Rational{BigInt},1}:\n",
              " 11//10\n",
              " 17//10\n",
              "  2//1 "
            ]
          },
          "metadata": {}
        }
      ],
      "execution_count": 28,
      "metadata": {
        "execution": {
          "iopub.status.busy": "2020-05-10T14:51:07.562Z",
          "iopub.execute_input": "2020-05-10T14:51:07.582Z",
          "iopub.status.idle": "2020-05-10T14:51:09.132Z"
        }
      }
    },
    {
      "cell_type": "code",
      "source": [
        "Arational\\b"
      ],
      "outputs": [
        {
          "output_type": "execute_result",
          "execution_count": 29,
          "data": {
            "text/plain": [
              "3-element Array{Rational{BigInt},1}:\n",
              " 1//1\n",
              " 1//1\n",
              " 1//1"
            ]
          },
          "metadata": {}
        }
      ],
      "execution_count": 29,
      "metadata": {
        "execution": {
          "iopub.status.busy": "2020-05-10T14:51:09.167Z",
          "iopub.execute_input": "2020-05-10T14:51:09.186Z",
          "iopub.status.idle": "2020-05-10T14:51:11.991Z"
        }
      }
    },
    {
      "cell_type": "code",
      "source": [
        "lu(Arational)"
      ],
      "outputs": [
        {
          "output_type": "execute_result",
          "execution_count": 30,
          "data": {
            "text/plain": [
              "LU{Rational{BigInt},Array{Rational{BigInt},2}}\n",
              "L factor:\n",
              "3×3 Array{Rational{BigInt},2}:\n",
              " 1//1   0//1   0//1\n",
              " 4//1   1//1   0//1\n",
              " 7//1  39//20  1//1\n",
              "U factor:\n",
              "3×3 Array{Rational{BigInt},2}:\n",
              " 1//10   7//10    3//10 \n",
              " 0//1   -2//1    -7//10 \n",
              " 0//1    0//1   -87//200"
            ]
          },
          "metadata": {}
        }
      ],
      "execution_count": 30,
      "metadata": {
        "execution": {
          "iopub.status.busy": "2020-05-10T14:51:12.019Z",
          "iopub.execute_input": "2020-05-10T14:51:12.039Z",
          "iopub.status.idle": "2020-05-10T14:51:12.813Z"
        }
      }
    },
    {
      "cell_type": "markdown",
      "source": [
        "### Exercises\n",
        "\n",
        "#### 11.1\n",
        "What are the eigenvalues of matrix A?\n",
        "\n",
        "```\n",
        "A =\n",
        "[\n",
        " 140   97   74  168  131\n",
        "  97  106   89  131   36\n",
        "  74   89  152  144   71\n",
        " 168  131  144   54  142\n",
        " 131   36   71  142   36\n",
        "]\n",
        "```\n",
        "and assign it a variable `A_eigv`"
      ],
      "metadata": {}
    },
    {
      "cell_type": "code",
      "source": [
        "using LinearAlgebra"
      ],
      "outputs": [],
      "execution_count": 31,
      "metadata": {
        "execution": {
          "iopub.status.busy": "2020-05-10T14:51:12.844Z",
          "iopub.execute_input": "2020-05-10T14:51:12.868Z",
          "iopub.status.idle": "2020-05-10T14:51:12.896Z"
        }
      }
    },
    {
      "cell_type": "code",
      "source": [
        "@assert A_eigv ==  [-128.49322764802145, -55.887784553056875, 42.7521672793189, 87.16111477514521, 542.4677301466143]"
      ],
      "outputs": [
        {
          "output_type": "error",
          "ename": "UndefVarError",
          "evalue": "UndefVarError: A_eigv not defined",
          "traceback": [
            "UndefVarError: A_eigv not defined",
            "",
            "Stacktrace:",
            " [1] top-level scope at In[32]:1"
          ]
        }
      ],
      "execution_count": 32,
      "metadata": {
        "execution": {
          "iopub.status.busy": "2020-05-10T14:51:12.924Z",
          "iopub.execute_input": "2020-05-10T14:51:12.942Z",
          "iopub.status.idle": "2020-05-10T14:51:14.029Z"
        }
      }
    },
    {
      "cell_type": "markdown",
      "source": [
        "#### 11.2\n",
        "Create a `Diagonal` matrix from the eigenvalues of `A`."
      ],
      "metadata": {}
    },
    {
      "cell_type": "code",
      "source": [
        "@assert A_diag ==  [-128.493    0.0      0.0      0.0       0.0;\n",
        "    0.0    -55.8878   0.0      0.0       0.0;\n",
        "    0.0      0.0     42.7522   0.0       0.0;\n",
        "    0.0      0.0      0.0     87.1611    0.0;\n",
        "    0.0 0.0      0.0      0.0     542.468]\n",
        "# #### 11.3\n",
        "# Create a `LowerTriangular` matrix from `A` and store it in `A_lowertri`\n",
        "@assert A_lowertri ==  [140    0    0    0   0;\n",
        "  97  106    0    0   0;\n",
        "  74   89  152    0   0;\n",
        " 168  131  144   54   0;\n",
        " 131   36   71  142  36]"
      ],
      "outputs": [
        {
          "output_type": "error",
          "ename": "UndefVarError",
          "evalue": "UndefVarError: A_diag not defined",
          "traceback": [
            "UndefVarError: A_diag not defined",
            "",
            "Stacktrace:",
            " [1] top-level scope at In[33]:1"
          ]
        }
      ],
      "execution_count": 33,
      "metadata": {
        "execution": {
          "iopub.status.busy": "2020-05-10T14:51:14.065Z",
          "iopub.execute_input": "2020-05-10T14:51:14.085Z",
          "iopub.status.idle": "2020-05-10T14:51:14.124Z"
        }
      }
    }
  ],
  "metadata": {
    "language_info": {
      "file_extension": ".jl",
      "name": "julia",
      "mimetype": "application/julia",
      "version": "1.0.5"
    },
    "kernelspec": {
      "name": "julia-1.0",
      "display_name": "Julia 1.0.3",
      "language": "julia"
    },
    "nteract": {
      "version": "0.23.1"
    }
  },
  "nbformat": 4,
  "nbformat_minor": 3
}