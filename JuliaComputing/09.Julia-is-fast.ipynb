{
  "cells": [
    {
      "cell_type": "markdown",
      "source": [
        "# Julia is fast\n",
        "\n",
        "Very often, benchmarks are used to compare languages.  These benchmarks can lead to long discussions, first as to exactly what is being benchmarked and secondly what explains the differences.  These simple questions can sometimes get more complicated than you at first might imagine.\n",
        "\n",
        "The purpose of this notebook is for you to see a simple benchmark for yourself.  One can read the notebook and see what happened on the author's Macbook Pro with a 4-core Intel Core I7, or run the notebook yourself.\n",
        "\n",
        "(This material began life as a wonderful lecture by Steven Johnson at MIT: https://github.com/stevengj/18S096/blob/master/lectures/lecture1/Boxes-and-registers.ipynb.)"
      ],
      "metadata": {}
    },
    {
      "cell_type": "markdown",
      "source": [
        "# Outline of this notebook\n",
        "\n",
        "- Define the sum function\n",
        "- Implementations & benchmarking of sum in...\n",
        "    - C (hand-written)\n",
        "    - C (hand-written with -ffast-math)\n",
        "    - python (built-in)\n",
        "    - python (numpy)\n",
        "    - python (hand-written)\n",
        "    - Julia (built-in)\n",
        "    - Julia (hand-written)\n",
        "    - Julia (hand-written with SIMD)\n",
        "- Summary of benchmarks"
      ],
      "metadata": {}
    },
    {
      "cell_type": "markdown",
      "source": [
        "# `sum`: An easy enough function to understand"
      ],
      "metadata": {}
    },
    {
      "cell_type": "markdown",
      "source": [
        "Consider the  **sum** function `sum(a)`, which computes\n",
        "$$\n",
        "\\mathrm{sum}(a) = \\sum_{i=1}^n a_i,\n",
        "$$\n",
        "where $n$ is the length of `a`."
      ],
      "metadata": {}
    },
    {
      "cell_type": "code",
      "source": [
        "a = rand(10^7) # 1D vector of random numbers, uniform on [0,1)"
      ],
      "outputs": [
        {
          "output_type": "execute_result",
          "execution_count": 94,
          "data": {
            "text/plain": [
              "10000000-element Array{Float64,1}:\n",
              " 0.8163986267625749 \n",
              " 0.03247267322850034\n",
              " 0.29173184282103537\n",
              " 0.5481116964772641 \n",
              " 0.48562095725891674\n",
              " 0.6226185079152236 \n",
              " 0.802436584117411  \n",
              " 0.31003662772718377\n",
              " 0.35479112128957624\n",
              " 0.7642653236882644 \n",
              " 0.44653367590415827\n",
              " 0.9337431922966564 \n",
              " 0.646275585292283  \n",
              " ⋮                  \n",
              " 0.502978833771003  \n",
              " 0.2578317944719539 \n",
              " 0.6031130492923571 \n",
              " 0.40820947328633594\n",
              " 0.9475854333100218 \n",
              " 0.3228053583247028 \n",
              " 0.9495688212008535 \n",
              " 0.48469555713081314\n",
              " 0.1956668119662135 \n",
              " 0.8489466973139901 \n",
              " 0.3461309152789154 \n",
              " 0.9174772429988314 "
            ]
          },
          "metadata": {}
        }
      ],
      "execution_count": 94,
      "metadata": {
        "execution": {
          "iopub.status.busy": "2020-05-10T14:29:57.231Z",
          "iopub.execute_input": "2020-05-10T14:29:57.251Z",
          "iopub.status.idle": "2020-05-10T14:29:57.292Z"
        }
      }
    },
    {
      "cell_type": "code",
      "source": [
        "sum(a)"
      ],
      "outputs": [
        {
          "output_type": "execute_result",
          "execution_count": 95,
          "data": {
            "text/plain": [
              "5.001145501676621e6"
            ]
          },
          "metadata": {}
        }
      ],
      "execution_count": 95,
      "metadata": {
        "execution": {
          "iopub.status.busy": "2020-05-10T14:29:57.324Z",
          "iopub.execute_input": "2020-05-10T14:29:57.343Z",
          "iopub.status.idle": "2020-05-10T14:29:57.384Z"
        }
      }
    },
    {
      "cell_type": "markdown",
      "source": [
        "The expected result is 0.5 * 10^7, since the mean of each entry is 0.5"
      ],
      "metadata": {}
    },
    {
      "cell_type": "markdown",
      "source": [
        "# Benchmarking a few ways in a few languages"
      ],
      "metadata": {}
    },
    {
      "cell_type": "code",
      "source": [
        "@time sum(a)"
      ],
      "outputs": [
        {
          "output_type": "stream",
          "name": "stdout",
          "text": [
            "  0.007702 seconds (5 allocations: 176 bytes)\n"
          ]
        },
        {
          "output_type": "execute_result",
          "execution_count": 96,
          "data": {
            "text/plain": [
              "5.001145501676621e6"
            ]
          },
          "metadata": {}
        }
      ],
      "execution_count": 96,
      "metadata": {
        "execution": {
          "iopub.status.busy": "2020-05-10T14:29:57.415Z",
          "iopub.execute_input": "2020-05-10T14:29:57.441Z",
          "iopub.status.idle": "2020-05-10T14:29:57.496Z"
        }
      }
    },
    {
      "cell_type": "code",
      "source": [
        "@time sum(a)"
      ],
      "outputs": [
        {
          "output_type": "stream",
          "name": "stdout",
          "text": [
            "  0.007598 seconds (5 allocations: 176 bytes)\n"
          ]
        },
        {
          "output_type": "execute_result",
          "execution_count": 97,
          "data": {
            "text/plain": [
              "5.001145501676621e6"
            ]
          },
          "metadata": {}
        }
      ],
      "execution_count": 97,
      "metadata": {
        "execution": {
          "iopub.status.busy": "2020-05-10T14:29:57.525Z",
          "iopub.execute_input": "2020-05-10T14:29:57.544Z",
          "iopub.status.idle": "2020-05-10T14:29:57.606Z"
        }
      }
    },
    {
      "cell_type": "code",
      "source": [
        "@time sum(a)"
      ],
      "outputs": [
        {
          "output_type": "stream",
          "name": "stdout",
          "text": [
            "  0.007807 seconds (5 allocations: 176 bytes)\n"
          ]
        },
        {
          "output_type": "execute_result",
          "execution_count": 98,
          "data": {
            "text/plain": [
              "5.001145501676621e6"
            ]
          },
          "metadata": {}
        }
      ],
      "execution_count": 98,
      "metadata": {
        "execution": {
          "iopub.status.busy": "2020-05-10T14:29:57.638Z",
          "iopub.execute_input": "2020-05-10T14:29:57.658Z",
          "iopub.status.idle": "2020-05-10T14:29:57.708Z"
        }
      }
    },
    {
      "cell_type": "markdown",
      "source": [
        "The `@time` macro can yield noisy results, so it's not our best choice for benchmarking!\n",
        "\n",
        "Luckily, Julia has a `BenchmarkTools.jl` package to make benchmarking easy and accurate:"
      ],
      "metadata": {}
    },
    {
      "cell_type": "code",
      "source": [
        "using Pkg\n",
        "Pkg.add(\"BenchmarkTools\")"
      ],
      "outputs": [
        {
          "output_type": "stream",
          "name": "stdout",
          "text": [
            "\u001b[32m\u001b[1m Resolving\u001b[22m\u001b[39m package versions...\n",
            "\u001b[32m\u001b[1m  Updating\u001b[22m\u001b[39m `C:\\Users\\Guru\\.juliapro\\JuliaPro_v1.0.5-2\\environments\\v1.0\\Project.toml`\n",
            "\u001b[90m [no changes]\u001b[39m\n",
            "\u001b[32m\u001b[1m  Updating\u001b[22m\u001b[39m `C:\\Users\\Guru\\.juliapro\\JuliaPro_v1.0.5-2\\environments\\v1.0\\Manifest.toml`\n",
            "\u001b[90m [no changes]\u001b[39m\n"
          ]
        }
      ],
      "execution_count": 99,
      "metadata": {
        "execution": {
          "iopub.status.busy": "2020-05-10T14:29:57.746Z",
          "iopub.execute_input": "2020-05-10T14:29:57.765Z",
          "iopub.status.idle": "2020-05-10T14:30:00.077Z"
        }
      }
    },
    {
      "cell_type": "code",
      "source": [
        "using BenchmarkTools"
      ],
      "outputs": [],
      "execution_count": 100,
      "metadata": {
        "execution": {
          "iopub.status.busy": "2020-05-10T14:30:00.117Z",
          "iopub.execute_input": "2020-05-10T14:30:00.146Z",
          "iopub.status.idle": "2020-05-10T14:30:00.183Z"
        }
      }
    },
    {
      "cell_type": "markdown",
      "source": [
        "#  1. The C language\n",
        "\n",
        "C is often considered the gold standard: difficult on the human, nice for the machine. Getting within a factor of 2 of C is often satisfying. Nonetheless, even within C, there are many kinds of optimizations possible that a naive C writer may or may not get the advantage of.\n",
        "\n",
        "The current author does not speak C, so he does not read the cell below, but is happy to know that you can put C code in a Julia session, compile it, and run it. Note that the `\"\"\"` wrap a multi-line string."
      ],
      "metadata": {}
    },
    {
      "cell_type": "code",
      "source": [
        "using Libdl"
      ],
      "outputs": [],
      "execution_count": null,
      "metadata": {
        "collapsed": true,
        "outputExpanded": false,
        "jupyter": {
          "source_hidden": false,
          "outputs_hidden": false
        },
        "nteract": {
          "transient": {
            "deleting": false
          }
        }
      }
    },
    {
      "cell_type": "code",
      "source": [
        "using Libdl\n",
        "C_code = \"\"\"\n",
        "#include <stddef.h>\n",
        "double c_sum(size_t n, double *X) {\n",
        "    double s = 0.0;\n",
        "    for (size_t i = 0; i < n; ++i) {\n",
        "        s += X[i];\n",
        "    }\n",
        "    return s;\n",
        "}\n",
        "\"\"\"\n",
        "\n",
        "const Clib = tempname()   # make a temporary file\n",
        "\n",
        "\n",
        "# compile to a shared library by piping C_code to gcc\n",
        "# (works only if you have gcc installed):\n",
        "\n",
        "open(`gcc -fPIC -O3 -msse3 -xc -shared -o $(Clib * \".\" * Libdl.dlext) -`, \"w\") do f\n",
        "    print(f, C_code)\n",
        "end\n",
        "\n",
        "# define a Julia function that calls the C function:\n",
        "c_sum(X::Array{Float64}) = ccall((\"c_sum\", Clib), Float64, (Csize_t, Ptr{Float64}), length(X), X)"
      ],
      "outputs": [
        {
          "output_type": "stream",
          "name": "stderr",
          "text": [
            "WARNING: redefining constant Clib\n"
          ]
        },
        {
          "output_type": "error",
          "ename": "Base.IOError",
          "evalue": "IOError: could not spawn `gcc -fPIC -O3 -msse3 -xc -shared -o 'C:\\Users\\Guru\\AppData\\Local\\Temp\\jl_BDE1.tmp.dll' -`: no such file or directory (ENOENT)",
          "traceback": [
            "IOError: could not spawn `gcc -fPIC -O3 -msse3 -xc -shared -o 'C:\\Users\\Guru\\AppData\\Local\\Temp\\jl_BDE1.tmp.dll' -`: no such file or directory (ENOENT)",
            "",
            "Stacktrace:",
            " [1] _jl_spawn(::String, ::Array{String,1}, ::Cmd, ::Tuple{Base.PipeEndpoint,Base.DevNull,Base.PipeEndpoint}) at .\\process.jl:367",
            " [2] (::getfield(Base, Symbol(\"##495#496\")){Cmd,Base.Process})(::Tuple{Base.PipeEndpoint,Base.DevNull,Base.PipeEndpoint}) at .\\process.jl:509",
            " [3] setup_stdio(::getfield(Base, Symbol(\"##495#496\")){Cmd,Base.Process}, ::Tuple{Pipe,Base.DevNull,IJulia.IJuliaStdio{Base.PipeEndpoint}}) at .\\process.jl:490",
            " [4] #_spawn#494(::Nothing, ::Function, ::Cmd, ::Tuple{Pipe,Base.DevNull,IJulia.IJuliaStdio{Base.PipeEndpoint}}) at .\\process.jl:508",
            " [5] _spawn(::Cmd, ::Tuple{Pipe,Base.DevNull,IJulia.IJuliaStdio{Base.PipeEndpoint}}) at .\\process.jl:504",
            " [6] #open#504(::Bool, ::Bool, ::Function, ::Cmd, ::Base.DevNull) at .\\process.jl:599",
            " [7] #open at .\\none:0 [inlined]",
            " [8] open(::Cmd, ::String, ::Base.DevNull) at .\\process.jl:567",
            " [9] open at .\\process.jl:562 [inlined]",
            " [10] open(::getfield(Main, Symbol(\"##15#16\")), ::Cmd, ::String) at .\\process.jl:615",
            " [11] top-level scope at In[101]:14"
          ]
        }
      ],
      "execution_count": 101,
      "metadata": {
        "execution": {
          "iopub.status.busy": "2020-05-10T14:30:00.228Z",
          "iopub.execute_input": "2020-05-10T14:30:00.251Z",
          "iopub.status.idle": "2020-05-10T14:30:00.319Z"
        }
      }
    },
    {
      "cell_type": "code",
      "source": [
        "c_sum(a)"
      ],
      "outputs": [
        {
          "output_type": "error",
          "ename": "UndefVarError",
          "evalue": "UndefVarError: c_sum not defined",
          "traceback": [
            "UndefVarError: c_sum not defined",
            "",
            "Stacktrace:",
            " [1] top-level scope at In[102]:1"
          ]
        }
      ],
      "execution_count": 102,
      "metadata": {
        "execution": {
          "iopub.status.busy": "2020-05-10T14:30:00.357Z",
          "iopub.execute_input": "2020-05-10T14:30:00.382Z",
          "iopub.status.idle": "2020-05-10T14:30:00.438Z"
        }
      }
    },
    {
      "cell_type": "code",
      "source": [
        "c_sum(a) ≈ sum(a) # type \\approx and then <TAB> to get the ≈ symbolb"
      ],
      "outputs": [
        {
          "output_type": "error",
          "ename": "UndefVarError",
          "evalue": "UndefVarError: c_sum not defined",
          "traceback": [
            "UndefVarError: c_sum not defined",
            "",
            "Stacktrace:",
            " [1] top-level scope at In[103]:1"
          ]
        }
      ],
      "execution_count": 103,
      "metadata": {
        "execution": {
          "iopub.status.busy": "2020-05-10T14:30:00.470Z",
          "iopub.execute_input": "2020-05-10T14:30:00.494Z",
          "iopub.status.idle": "2020-05-10T14:30:00.539Z"
        }
      }
    },
    {
      "cell_type": "code",
      "source": [
        "c_sum(a) - sum(a)"
      ],
      "outputs": [
        {
          "output_type": "error",
          "ename": "UndefVarError",
          "evalue": "UndefVarError: c_sum not defined",
          "traceback": [
            "UndefVarError: c_sum not defined",
            "",
            "Stacktrace:",
            " [1] top-level scope at In[104]:1"
          ]
        }
      ],
      "execution_count": 104,
      "metadata": {
        "execution": {
          "iopub.status.busy": "2020-05-10T14:30:00.570Z",
          "iopub.execute_input": "2020-05-10T14:30:00.590Z",
          "iopub.status.idle": "2020-05-10T14:30:00.632Z"
        }
      }
    },
    {
      "cell_type": "code",
      "source": [
        "≈  # alias for the `isapprox` function"
      ],
      "outputs": [
        {
          "output_type": "execute_result",
          "execution_count": 105,
          "data": {
            "text/plain": [
              "isapprox (generic function with 15 methods)"
            ]
          },
          "metadata": {}
        }
      ],
      "execution_count": 105,
      "metadata": {
        "execution": {
          "iopub.status.busy": "2020-05-10T14:30:00.664Z",
          "iopub.execute_input": "2020-05-10T14:30:00.684Z",
          "iopub.status.idle": "2020-05-10T14:30:00.726Z"
        }
      }
    },
    {
      "cell_type": "code",
      "source": [
        "?isapprox"
      ],
      "outputs": [
        {
          "output_type": "stream",
          "name": "stdout",
          "text": [
            "search: \u001b[0m\u001b[1mi\u001b[22m\u001b[0m\u001b[1ms\u001b[22m\u001b[0m\u001b[1ma\u001b[22m\u001b[0m\u001b[1mp\u001b[22m\u001b[0m\u001b[1mp\u001b[22m\u001b[0m\u001b[1mr\u001b[22m\u001b[0m\u001b[1mo\u001b[22m\u001b[0m\u001b[1mx\u001b[22m\n",
            "\n"
          ]
        },
        {
          "output_type": "execute_result",
          "execution_count": 106,
          "data": {
            "text/plain": [
              "\u001b[36m  isapprox(x, y; rtol::Real=atol>0 ? 0 : √eps, atol::Real=0, nans::Bool=false, norm::Function)\u001b[39m\n",
              "\n",
              "  Inexact equality comparison: \u001b[36mtrue\u001b[39m if \u001b[36mnorm(x-y) <= max(atol,\n",
              "  rtol*max(norm(x), norm(y)))\u001b[39m. The default \u001b[36matol\u001b[39m is zero and the default \u001b[36mrtol\u001b[39m\n",
              "  depends on the types of \u001b[36mx\u001b[39m and \u001b[36my\u001b[39m. The keyword argument \u001b[36mnans\u001b[39m determines\n",
              "  whether or not NaN values are considered equal (defaults to false).\n",
              "\n",
              "  For real or complex floating-point values, if an \u001b[36matol > 0\u001b[39m is not specified,\n",
              "  \u001b[36mrtol\u001b[39m defaults to the square root of \u001b[36meps\u001b[39m of the type of \u001b[36mx\u001b[39m or \u001b[36my\u001b[39m, whichever is\n",
              "  bigger (least precise). This corresponds to requiring equality of about half\n",
              "  of the significand digits. Otherwise, e.g. for integer arguments or if an\n",
              "  \u001b[36matol > 0\u001b[39m is supplied, \u001b[36mrtol\u001b[39m defaults to zero.\n",
              "\n",
              "  \u001b[36mx\u001b[39m and \u001b[36my\u001b[39m may also be arrays of numbers, in which case \u001b[36mnorm\u001b[39m defaults to\n",
              "  \u001b[36mvecnorm\u001b[39m but may be changed by passing a \u001b[36mnorm::Function\u001b[39m keyword argument.\n",
              "  (For numbers, \u001b[36mnorm\u001b[39m is the same thing as \u001b[36mabs\u001b[39m.) When \u001b[36mx\u001b[39m and \u001b[36my\u001b[39m are arrays, if\n",
              "  \u001b[36mnorm(x-y)\u001b[39m is not finite (i.e. \u001b[36m±Inf\u001b[39m or \u001b[36mNaN\u001b[39m), the comparison falls back to\n",
              "  checking whether all elements of \u001b[36mx\u001b[39m and \u001b[36my\u001b[39m are approximately equal\n",
              "  component-wise.\n",
              "\n",
              "  The binary operator \u001b[36m≈\u001b[39m is equivalent to \u001b[36misapprox\u001b[39m with the default arguments,\n",
              "  and \u001b[36mx ≉ y\u001b[39m is equivalent to \u001b[36m!isapprox(x,y)\u001b[39m.\n",
              "\n",
              "  Note that \u001b[36mx ≈ 0\u001b[39m (i.e., comparing to zero with the default tolerances) is\n",
              "  equivalent to \u001b[36mx == 0\u001b[39m since the default \u001b[36matol\u001b[39m is \u001b[36m0\u001b[39m. In such cases, you should\n",
              "  either supply an appropriate \u001b[36matol\u001b[39m (or use \u001b[36mnorm(x) ≤ atol\u001b[39m) or rearrange your\n",
              "  code (e.g. use \u001b[36mx ≈ y\u001b[39m rather than \u001b[36mx - y ≈ 0\u001b[39m). It is not possible to pick a\n",
              "  nonzero \u001b[36matol\u001b[39m automatically because it depends on the overall scaling (the\n",
              "  \"units\") of your problem: for example, in \u001b[36mx - y ≈ 0\u001b[39m, \u001b[36matol=1e-9\u001b[39m is an\n",
              "  absurdly small tolerance if \u001b[36mx\u001b[39m is the radius of the Earth\n",
              "  (https://en.wikipedia.org/wiki/Earth_radius) in meters, but an absurdly\n",
              "  large tolerance if \u001b[36mx\u001b[39m is the radius of a Hydrogen atom\n",
              "  (https://en.wikipedia.org/wiki/Bohr_radius) in meters.\n",
              "\n",
              "\u001b[1m  Examples\u001b[22m\n",
              "\u001b[1m  ≡≡≡≡≡≡≡≡≡≡\u001b[22m\n",
              "\n",
              "\u001b[36m  julia> 0.1 ≈ (0.1 - 1e-10)\u001b[39m\n",
              "\u001b[36m  true\u001b[39m\n",
              "\u001b[36m  \u001b[39m\n",
              "\u001b[36m  julia> isapprox(10, 11; atol = 2)\u001b[39m\n",
              "\u001b[36m  true\u001b[39m\n",
              "\u001b[36m  \u001b[39m\n",
              "\u001b[36m  julia> isapprox([10.0^9, 1.0], [10.0^9, 2.0])\u001b[39m\n",
              "\u001b[36m  true\u001b[39m\n",
              "\u001b[36m  \u001b[39m\n",
              "\u001b[36m  julia> 1e-10 ≈ 0\u001b[39m\n",
              "\u001b[36m  false\u001b[39m\n",
              "\u001b[36m  \u001b[39m\n",
              "\u001b[36m  julia> isapprox(1e-10, 0, atol=1e-8)\u001b[39m\n",
              "\u001b[36m  true\u001b[39m\n",
              "\n",
              "  ────────────────────────────────────────────────────────────────────────────\n",
              "\n",
              "\u001b[36m  isapprox(x::FixedPoint, y::FixedPoint; rtol=0, atol=max(eps(x), eps(y)))\u001b[39m\n",
              "\n",
              "  For FixedPoint numbers, the default criterion is that \u001b[36mx\u001b[39m and \u001b[36my\u001b[39m differ by no\n",
              "  more than \u001b[36meps\u001b[39m, the separation between adjacent fixed-point numbers."
            ],
            "text/markdown": [
              "```\n",
              "isapprox(x, y; rtol::Real=atol>0 ? 0 : √eps, atol::Real=0, nans::Bool=false, norm::Function)\n",
              "```\n",
              "\n",
              "Inexact equality comparison: `true` if `norm(x-y) <= max(atol, rtol*max(norm(x), norm(y)))`. The default `atol` is zero and the default `rtol` depends on the types of `x` and `y`. The keyword argument `nans` determines whether or not NaN values are considered equal (defaults to false).\n",
              "\n",
              "For real or complex floating-point values, if an `atol > 0` is not specified, `rtol` defaults to the square root of [`eps`](@ref) of the type of `x` or `y`, whichever is bigger (least precise). This corresponds to requiring equality of about half of the significand digits. Otherwise, e.g. for integer arguments or if an `atol > 0` is supplied, `rtol` defaults to zero.\n",
              "\n",
              "`x` and `y` may also be arrays of numbers, in which case `norm` defaults to `vecnorm` but may be changed by passing a `norm::Function` keyword argument. (For numbers, `norm` is the same thing as `abs`.) When `x` and `y` are arrays, if `norm(x-y)` is not finite (i.e. `±Inf` or `NaN`), the comparison falls back to checking whether all elements of `x` and `y` are approximately equal component-wise.\n",
              "\n",
              "The binary operator `≈` is equivalent to `isapprox` with the default arguments, and `x ≉ y` is equivalent to `!isapprox(x,y)`.\n",
              "\n",
              "Note that `x ≈ 0` (i.e., comparing to zero with the default tolerances) is equivalent to `x == 0` since the default `atol` is `0`.  In such cases, you should either supply an appropriate `atol` (or use `norm(x) ≤ atol`) or rearrange your code (e.g. use `x ≈ y` rather than `x - y ≈ 0`).   It is not possible to pick a nonzero `atol` automatically because it depends on the overall scaling (the \"units\") of your problem: for example, in `x - y ≈ 0`, `atol=1e-9` is an absurdly small tolerance if `x` is the [radius of the Earth](https://en.wikipedia.org/wiki/Earth_radius) in meters, but an absurdly large tolerance if `x` is the [radius of a Hydrogen atom](https://en.wikipedia.org/wiki/Bohr_radius) in meters.\n",
              "\n",
              "# Examples\n",
              "\n",
              "```jldoctest\n",
              "julia> 0.1 ≈ (0.1 - 1e-10)\n",
              "true\n",
              "\n",
              "julia> isapprox(10, 11; atol = 2)\n",
              "true\n",
              "\n",
              "julia> isapprox([10.0^9, 1.0], [10.0^9, 2.0])\n",
              "true\n",
              "\n",
              "julia> 1e-10 ≈ 0\n",
              "false\n",
              "\n",
              "julia> isapprox(1e-10, 0, atol=1e-8)\n",
              "true\n",
              "```\n",
              "\n",
              "---\n",
              "\n",
              "```\n",
              "isapprox(x::FixedPoint, y::FixedPoint; rtol=0, atol=max(eps(x), eps(y)))\n",
              "```\n",
              "\n",
              "For FixedPoint numbers, the default criterion is that `x` and `y` differ by no more than `eps`, the separation between adjacent fixed-point numbers.\n"
            ],
            "text/latex": [
              "\\begin{verbatim}\n",
              "isapprox(x, y; rtol::Real=atol>0 ? 0 : √eps, atol::Real=0, nans::Bool=false, norm::Function)\n",
              "\\end{verbatim}\n",
              "Inexact equality comparison: \\texttt{true} if \\texttt{norm(x-y) <= max(atol, rtol*max(norm(x), norm(y)))}. The default \\texttt{atol} is zero and the default \\texttt{rtol} depends on the types of \\texttt{x} and \\texttt{y}. The keyword argument \\texttt{nans} determines whether or not NaN values are considered equal (defaults to false).\n",
              "\n",
              "For real or complex floating-point values, if an \\texttt{atol > 0} is not specified, \\texttt{rtol} defaults to the square root of \\href{@ref}{\\texttt{eps}} of the type of \\texttt{x} or \\texttt{y}, whichever is bigger (least precise). This corresponds to requiring equality of about half of the significand digits. Otherwise, e.g. for integer arguments or if an \\texttt{atol > 0} is supplied, \\texttt{rtol} defaults to zero.\n",
              "\n",
              "\\texttt{x} and \\texttt{y} may also be arrays of numbers, in which case \\texttt{norm} defaults to \\texttt{vecnorm} but may be changed by passing a \\texttt{norm::Function} keyword argument. (For numbers, \\texttt{norm} is the same thing as \\texttt{abs}.) When \\texttt{x} and \\texttt{y} are arrays, if \\texttt{norm(x-y)} is not finite (i.e. \\texttt{±Inf} or \\texttt{NaN}), the comparison falls back to checking whether all elements of \\texttt{x} and \\texttt{y} are approximately equal component-wise.\n",
              "\n",
              "The binary operator \\texttt{≈} is equivalent to \\texttt{isapprox} with the default arguments, and \\texttt{x ≉ y} is equivalent to \\texttt{!isapprox(x,y)}.\n",
              "\n",
              "Note that \\texttt{x ≈ 0} (i.e., comparing to zero with the default tolerances) is equivalent to \\texttt{x == 0} since the default \\texttt{atol} is \\texttt{0}.  In such cases, you should either supply an appropriate \\texttt{atol} (or use \\texttt{norm(x) ≤ atol}) or rearrange your code (e.g. use \\texttt{x ≈ y} rather than \\texttt{x - y ≈ 0}).   It is not possible to pick a nonzero \\texttt{atol} automatically because it depends on the overall scaling (the \"units\") of your problem: for example, in \\texttt{x - y ≈ 0}, \\texttt{atol=1e-9} is an absurdly small tolerance if \\texttt{x} is the \\href{https://en.wikipedia.org/wiki/Earth_radius}{radius of the Earth} in meters, but an absurdly large tolerance if \\texttt{x} is the \\href{https://en.wikipedia.org/wiki/Bohr_radius}{radius of a Hydrogen atom} in meters.\n",
              "\n",
              "\\section{Examples}\n",
              "\\begin{verbatim}\n",
              "julia> 0.1 ≈ (0.1 - 1e-10)\n",
              "true\n",
              "\n",
              "julia> isapprox(10, 11; atol = 2)\n",
              "true\n",
              "\n",
              "julia> isapprox([10.0^9, 1.0], [10.0^9, 2.0])\n",
              "true\n",
              "\n",
              "julia> 1e-10 ≈ 0\n",
              "false\n",
              "\n",
              "julia> isapprox(1e-10, 0, atol=1e-8)\n",
              "true\n",
              "\\end{verbatim}\n",
              "\\rule{\\textwidth}{1pt}\n",
              "\\begin{verbatim}\n",
              "isapprox(x::FixedPoint, y::FixedPoint; rtol=0, atol=max(eps(x), eps(y)))\n",
              "\\end{verbatim}\n",
              "For FixedPoint numbers, the default criterion is that \\texttt{x} and \\texttt{y} differ by no more than \\texttt{eps}, the separation between adjacent fixed-point numbers.\n",
              "\n"
            ]
          },
          "metadata": {}
        }
      ],
      "execution_count": 106,
      "metadata": {
        "execution": {
          "iopub.status.busy": "2020-05-10T14:30:00.760Z",
          "iopub.execute_input": "2020-05-10T14:30:00.780Z",
          "iopub.status.idle": "2020-05-10T14:30:00.850Z"
        }
      }
    },
    {
      "cell_type": "markdown",
      "source": [
        "We can now benchmark the C code directly from Julia:"
      ],
      "metadata": {}
    },
    {
      "cell_type": "code",
      "source": [
        "c_bench = @benchmark c_sum($a)"
      ],
      "outputs": [
        {
          "output_type": "error",
          "ename": "UndefVarError",
          "evalue": "UndefVarError: c_sum not defined",
          "traceback": [
            "UndefVarError: c_sum not defined",
            "",
            "Stacktrace:",
            " [1] ##core#409(::Array{Float64,1}) at C:\\Users\\Guru\\.juliapro\\JuliaPro_v1.0.5-2\\packages\\BenchmarkTools\\eCEpo\\src\\execution.jl:371",
            " [2] ##sample#410(::BenchmarkTools.Parameters) at C:\\Users\\Guru\\.juliapro\\JuliaPro_v1.0.5-2\\packages\\BenchmarkTools\\eCEpo\\src\\execution.jl:377",
            " [3] #_run#17(::Bool, ::String, ::Base.Iterators.Pairs{Symbol,Integer,NTuple{4,Symbol},NamedTuple{(:samples, :evals, :gctrial, :gcsample),Tuple{Int64,Int64,Bool,Bool}}}, ::Function, ::BenchmarkTools.Benchmark{Symbol(\"##benchmark#408\")}, ::BenchmarkTools.Parameters) at C:\\Users\\Guru\\.juliapro\\JuliaPro_v1.0.5-2\\packages\\BenchmarkTools\\eCEpo\\src\\execution.jl:405",
            " [4] (::getfield(Base, Symbol(\"#inner#2\")){Base.Iterators.Pairs{Symbol,Integer,NTuple{5,Symbol},NamedTuple{(:verbose, :samples, :evals, :gctrial, :gcsample),Tuple{Bool,Int64,Int64,Bool,Bool}}},typeof(BenchmarkTools._run),Tuple{BenchmarkTools.Benchmark{Symbol(\"##benchmark#408\")},BenchmarkTools.Parameters}})() at .\\none:0",
            " [5] #invokelatest#1 at .\\essentials.jl:701 [inlined]",
            " [6] #invokelatest at .\\none:0 [inlined]",
            " [7] #run_result#37 at C:\\Users\\Guru\\.juliapro\\JuliaPro_v1.0.5-2\\packages\\BenchmarkTools\\eCEpo\\src\\execution.jl:32 [inlined]",
            " [8] #run_result at .\\none:0 [inlined]",
            " [9] #run#40(::Nothing, ::Float64, ::Float64, ::Base.Iterators.Pairs{Symbol,Integer,NTuple{5,Symbol},NamedTuple{(:verbose, :samples, :evals, :gctrial, :gcsample),Tuple{Bool,Int64,Int64,Bool,Bool}}}, ::Function, ::BenchmarkTools.Benchmark{Symbol(\"##benchmark#408\")}, ::BenchmarkTools.Parameters) at C:\\Users\\Guru\\.juliapro\\JuliaPro_v1.0.5-2\\packages\\BenchmarkTools\\eCEpo\\src\\execution.jl:94",
            " [10] warmup(::BenchmarkTools.Benchmark{Symbol(\"##benchmark#408\")}) at .\\none:0",
            " [11] top-level scope at C:\\Users\\Guru\\.juliapro\\JuliaPro_v1.0.5-2\\packages\\BenchmarkTools\\eCEpo\\src\\execution.jl:287",
            " [12] top-level scope at In[107]:1"
          ]
        }
      ],
      "execution_count": 107,
      "metadata": {
        "execution": {
          "iopub.status.busy": "2020-05-10T14:30:00.880Z",
          "iopub.execute_input": "2020-05-10T14:30:00.903Z",
          "iopub.status.idle": "2020-05-10T14:30:00.946Z"
        }
      }
    },
    {
      "cell_type": "code",
      "source": [
        "println(\"C: Fastest time was $(minimum(c_bench.times) / 1e6) msec\")"
      ],
      "outputs": [
        {
          "output_type": "error",
          "ename": "UndefVarError",
          "evalue": "UndefVarError: c_bench not defined",
          "traceback": [
            "UndefVarError: c_bench not defined",
            "",
            "Stacktrace:",
            " [1] top-level scope at In[108]:1"
          ]
        }
      ],
      "execution_count": 108,
      "metadata": {
        "execution": {
          "iopub.status.busy": "2020-05-10T14:30:00.981Z",
          "iopub.execute_input": "2020-05-10T14:30:01.000Z",
          "iopub.status.idle": "2020-05-10T14:30:01.042Z"
        }
      }
    },
    {
      "cell_type": "code",
      "source": [
        "d = Dict()  # a \"dictionary\", i.e. an associative array\n",
        "d[\"C\"] = minimum(c_bench.times) / 1e6  # in milliseconds\n",
        "d"
      ],
      "outputs": [
        {
          "output_type": "error",
          "ename": "UndefVarError",
          "evalue": "UndefVarError: c_bench not defined",
          "traceback": [
            "UndefVarError: c_bench not defined",
            "",
            "Stacktrace:",
            " [1] top-level scope at In[109]:2"
          ]
        }
      ],
      "execution_count": 109,
      "metadata": {
        "execution": {
          "iopub.status.busy": "2020-05-10T14:30:01.072Z",
          "iopub.execute_input": "2020-05-10T14:30:01.098Z",
          "iopub.status.idle": "2020-05-10T14:30:01.139Z"
        }
      }
    },
    {
      "cell_type": "code",
      "source": [
        "using Plots\n",
        "gr()"
      ],
      "outputs": [
        {
          "output_type": "execute_result",
          "execution_count": 110,
          "data": {
            "text/plain": [
              "Plots.GRBackend()"
            ]
          },
          "metadata": {}
        }
      ],
      "execution_count": 110,
      "metadata": {
        "execution": {
          "iopub.status.busy": "2020-05-10T14:30:01.171Z",
          "iopub.execute_input": "2020-05-10T14:30:01.191Z",
          "iopub.status.idle": "2020-05-10T14:30:01.245Z"
        }
      }
    },
    {
      "cell_type": "code",
      "source": [
        "using Statistics # bring in statistical support for standard deviations\n",
        "t = c_bench.times / 1e6 # times in milliseconds\n",
        "m, σ = minimum(t), std(t)\n",
        "\n",
        "histogram(t, bins=500,\n",
        "    xlim=(m - 0.01, m + σ),\n",
        "    xlabel=\"milliseconds\", ylabel=\"count\", label=\"\")\n",
        "# # 2. C with -ffast-math"
      ],
      "outputs": [
        {
          "output_type": "error",
          "ename": "UndefVarError",
          "evalue": "UndefVarError: c_bench not defined",
          "traceback": [
            "UndefVarError: c_bench not defined",
            "",
            "Stacktrace:",
            " [1] top-level scope at In[111]:2"
          ]
        }
      ],
      "execution_count": 111,
      "metadata": {
        "execution": {
          "iopub.status.busy": "2020-05-10T14:30:01.276Z",
          "iopub.execute_input": "2020-05-10T14:30:01.296Z",
          "iopub.status.idle": "2020-05-10T14:30:01.339Z"
        }
      }
    },
    {
      "cell_type": "code",
      "source": [
        "# If we allow C to re-arrange the floating point operations, then it'll vectorize with SIMD (single instruction, multiple data) instructions.\n",
        "const Clib_fastmath = tempname()   # make a temporary file\n",
        "\n",
        "# The same as above but with a -ffast-math flag added\n",
        "open(`gcc -fPIC -O3 -msse3 -xc -shared -ffast-math -o $(Clib_fastmath * \".\" * Libdl.dlext) -`, \"w\") do f\n",
        "    print(f, C_code)\n",
        "end\n",
        "\n",
        "# define a Julia function that calls the C function:\n",
        "c_sum_fastmath(X::Array{Float64}) = ccall((\"c_sum\", Clib_fastmath), Float64, (Csize_t, Ptr{Float64}), length(X), X)"
      ],
      "outputs": [
        {
          "output_type": "stream",
          "name": "stderr",
          "text": [
            "WARNING: redefining constant Clib_fastmath\n"
          ]
        },
        {
          "output_type": "error",
          "ename": "Base.IOError",
          "evalue": "IOError: could not spawn `gcc -fPIC -O3 -msse3 -xc -shared -ffast-math -o 'C:\\Users\\Guru\\AppData\\Local\\Temp\\jl_4EAD.tmp.dll' -`: no such file or directory (ENOENT)",
          "traceback": [
            "IOError: could not spawn `gcc -fPIC -O3 -msse3 -xc -shared -ffast-math -o 'C:\\Users\\Guru\\AppData\\Local\\Temp\\jl_4EAD.tmp.dll' -`: no such file or directory (ENOENT)",
            "",
            "Stacktrace:",
            " [1] _jl_spawn(::String, ::Array{String,1}, ::Cmd, ::Tuple{Base.PipeEndpoint,Base.DevNull,Base.PipeEndpoint}) at .\\process.jl:367",
            " [2] (::getfield(Base, Symbol(\"##495#496\")){Cmd,Base.Process})(::Tuple{Base.PipeEndpoint,Base.DevNull,Base.PipeEndpoint}) at .\\process.jl:509",
            " [3] setup_stdio(::getfield(Base, Symbol(\"##495#496\")){Cmd,Base.Process}, ::Tuple{Pipe,Base.DevNull,IJulia.IJuliaStdio{Base.PipeEndpoint}}) at .\\process.jl:490",
            " [4] #_spawn#494(::Nothing, ::Function, ::Cmd, ::Tuple{Pipe,Base.DevNull,IJulia.IJuliaStdio{Base.PipeEndpoint}}) at .\\process.jl:508",
            " [5] _spawn(::Cmd, ::Tuple{Pipe,Base.DevNull,IJulia.IJuliaStdio{Base.PipeEndpoint}}) at .\\process.jl:504",
            " [6] #open#504(::Bool, ::Bool, ::Function, ::Cmd, ::Base.DevNull) at .\\process.jl:599",
            " [7] #open at .\\none:0 [inlined]",
            " [8] open(::Cmd, ::String, ::Base.DevNull) at .\\process.jl:567",
            " [9] open at .\\process.jl:562 [inlined]",
            " [10] open(::getfield(Main, Symbol(\"##18#19\")), ::Cmd, ::String) at .\\process.jl:615",
            " [11] top-level scope at In[112]:3"
          ]
        }
      ],
      "execution_count": 112,
      "metadata": {
        "execution": {
          "iopub.status.busy": "2020-05-10T14:30:01.373Z",
          "iopub.execute_input": "2020-05-10T14:30:01.392Z",
          "iopub.status.idle": "2020-05-10T14:30:01.456Z"
        }
      }
    },
    {
      "cell_type": "code",
      "source": [
        "c_fastmath_bench = @benchmark $c_sum_fastmath($a)"
      ],
      "outputs": [
        {
          "output_type": "error",
          "ename": "UndefVarError",
          "evalue": "UndefVarError: c_sum_fastmath not defined",
          "traceback": [
            "UndefVarError: c_sum_fastmath not defined",
            "",
            "Stacktrace:",
            " [1] top-level scope at C:\\Users\\Guru\\.juliapro\\JuliaPro_v1.0.5-2\\packages\\BenchmarkTools\\eCEpo\\src\\execution.jl:332",
            " [2] top-level scope at In[113]:1"
          ]
        }
      ],
      "execution_count": 113,
      "metadata": {
        "execution": {
          "iopub.status.busy": "2020-05-10T14:30:01.499Z",
          "iopub.execute_input": "2020-05-10T14:30:01.529Z",
          "iopub.status.idle": "2020-05-10T14:30:01.575Z"
        }
      }
    },
    {
      "cell_type": "code",
      "source": [
        "d[\"C -ffast-math\"] = minimum(c_fastmath_bench.times) / 1e6  # in milliseconds"
      ],
      "outputs": [
        {
          "output_type": "error",
          "ename": "UndefVarError",
          "evalue": "UndefVarError: c_fastmath_bench not defined",
          "traceback": [
            "UndefVarError: c_fastmath_bench not defined",
            "",
            "Stacktrace:",
            " [1] top-level scope at In[114]:1"
          ]
        }
      ],
      "execution_count": 114,
      "metadata": {
        "execution": {
          "iopub.status.busy": "2020-05-10T14:30:01.606Z",
          "iopub.execute_input": "2020-05-10T14:30:01.629Z",
          "iopub.status.idle": "2020-05-10T14:30:01.670Z"
        }
      }
    },
    {
      "cell_type": "markdown",
      "source": [
        "# 3. Python's built in `sum`"
      ],
      "metadata": {}
    },
    {
      "cell_type": "markdown",
      "source": [
        "The `PyCall` package provides a Julia interface to Python:"
      ],
      "metadata": {}
    },
    {
      "cell_type": "code",
      "source": [
        "# using Pkg; Pkg.add(\"PyCall\")\n",
        "using PyCall"
      ],
      "outputs": [
        {
          "output_type": "error",
          "ename": "ArgumentError",
          "evalue": "ArgumentError: Package PyCall not found in current path:\n- Run `import Pkg; Pkg.add(\"PyCall\")` to install the PyCall package.\n",
          "traceback": [
            "ArgumentError: Package PyCall not found in current path:\n- Run `import Pkg; Pkg.add(\"PyCall\")` to install the PyCall package.\n",
            "",
            "Stacktrace:",
            " [1] require(::Module, ::Symbol) at .\\loading.jl:823",
            " [2] top-level scope at In[115]:1"
          ]
        }
      ],
      "execution_count": 115,
      "metadata": {
        "execution": {
          "iopub.status.busy": "2020-05-10T14:30:01.707Z",
          "iopub.execute_input": "2020-05-10T14:30:01.726Z",
          "iopub.status.idle": "2020-05-10T14:30:01.771Z"
        }
      }
    },
    {
      "cell_type": "code",
      "source": [
        "# get the Python built-in \"sum\" function:\n",
        "pysum = pybuiltin(\"sum\")"
      ],
      "outputs": [
        {
          "output_type": "error",
          "ename": "UndefVarError",
          "evalue": "UndefVarError: pybuiltin not defined",
          "traceback": [
            "UndefVarError: pybuiltin not defined",
            "",
            "Stacktrace:",
            " [1] top-level scope at In[116]:1"
          ]
        }
      ],
      "execution_count": 116,
      "metadata": {
        "execution": {
          "iopub.status.busy": "2020-05-10T14:30:01.802Z",
          "iopub.execute_input": "2020-05-10T14:30:01.823Z",
          "iopub.status.idle": "2020-05-10T14:30:01.864Z"
        }
      }
    },
    {
      "cell_type": "code",
      "source": [
        "pysum(a)"
      ],
      "outputs": [
        {
          "output_type": "error",
          "ename": "UndefVarError",
          "evalue": "UndefVarError: pysum not defined",
          "traceback": [
            "UndefVarError: pysum not defined",
            "",
            "Stacktrace:",
            " [1] top-level scope at In[117]:1"
          ]
        }
      ],
      "execution_count": 117,
      "metadata": {
        "execution": {
          "iopub.status.busy": "2020-05-10T14:30:01.895Z",
          "iopub.execute_input": "2020-05-10T14:30:01.920Z",
          "iopub.status.idle": "2020-05-10T14:30:01.968Z"
        }
      }
    },
    {
      "cell_type": "code",
      "source": [
        "pysum(a) ≈ sum(a)"
      ],
      "outputs": [
        {
          "output_type": "error",
          "ename": "UndefVarError",
          "evalue": "UndefVarError: pysum not defined",
          "traceback": [
            "UndefVarError: pysum not defined",
            "",
            "Stacktrace:",
            " [1] top-level scope at In[118]:1"
          ]
        }
      ],
      "execution_count": 118,
      "metadata": {
        "execution": {
          "iopub.status.busy": "2020-05-10T14:30:02.002Z",
          "iopub.execute_input": "2020-05-10T14:30:02.022Z",
          "iopub.status.idle": "2020-05-10T14:30:02.068Z"
        }
      }
    },
    {
      "cell_type": "code",
      "source": [
        "py_list_bench = @benchmark $pysum($a)"
      ],
      "outputs": [
        {
          "output_type": "error",
          "ename": "UndefVarError",
          "evalue": "UndefVarError: pysum not defined",
          "traceback": [
            "UndefVarError: pysum not defined",
            "",
            "Stacktrace:",
            " [1] top-level scope at C:\\Users\\Guru\\.juliapro\\JuliaPro_v1.0.5-2\\packages\\BenchmarkTools\\eCEpo\\src\\execution.jl:332",
            " [2] top-level scope at In[119]:1"
          ]
        }
      ],
      "execution_count": 119,
      "metadata": {
        "execution": {
          "iopub.status.busy": "2020-05-10T14:30:02.099Z",
          "iopub.execute_input": "2020-05-10T14:30:02.120Z",
          "iopub.status.idle": "2020-05-10T14:30:02.166Z"
        }
      }
    },
    {
      "cell_type": "code",
      "source": [
        "d[\"Python built-in\"] = minimum(py_list_bench.times) / 1e6\n",
        "d"
      ],
      "outputs": [
        {
          "output_type": "error",
          "ename": "UndefVarError",
          "evalue": "UndefVarError: py_list_bench not defined",
          "traceback": [
            "UndefVarError: py_list_bench not defined",
            "",
            "Stacktrace:",
            " [1] top-level scope at In[120]:1"
          ]
        }
      ],
      "execution_count": 120,
      "metadata": {
        "execution": {
          "iopub.status.busy": "2020-05-10T14:30:02.199Z",
          "iopub.execute_input": "2020-05-10T14:30:02.223Z",
          "iopub.status.idle": "2020-05-10T14:30:02.272Z"
        }
      }
    },
    {
      "cell_type": "markdown",
      "source": [
        "# 4. Python: `numpy`\n",
        "\n",
        "## Takes advantage of hardware \"SIMD\", but only works when it works.\n",
        "\n",
        "`numpy` is an optimized C library, callable from Python.\n",
        "It may be installed within Julia as follows:"
      ],
      "metadata": {}
    },
    {
      "cell_type": "code",
      "source": [
        "# using Pkg; Pkg.add(\"Conda\")\n",
        "using Conda"
      ],
      "outputs": [
        {
          "output_type": "error",
          "ename": "ArgumentError",
          "evalue": "ArgumentError: Package Conda not found in current path:\n- Run `import Pkg; Pkg.add(\"Conda\")` to install the Conda package.\n",
          "traceback": [
            "ArgumentError: Package Conda not found in current path:\n- Run `import Pkg; Pkg.add(\"Conda\")` to install the Conda package.\n",
            "",
            "Stacktrace:",
            " [1] require(::Module, ::Symbol) at .\\loading.jl:823",
            " [2] top-level scope at In[121]:1"
          ]
        }
      ],
      "execution_count": 121,
      "metadata": {
        "execution": {
          "iopub.status.busy": "2020-05-10T14:30:02.304Z",
          "iopub.execute_input": "2020-05-10T14:30:02.326Z",
          "iopub.status.idle": "2020-05-10T14:30:02.371Z"
        }
      }
    },
    {
      "cell_type": "code",
      "source": [
        "# Conda.add(\"numpy\")"
      ],
      "outputs": [],
      "execution_count": 122,
      "metadata": {
        "execution": {
          "iopub.status.busy": "2020-05-10T14:30:02.405Z",
          "iopub.execute_input": "2020-05-10T14:30:02.427Z",
          "iopub.status.idle": "2020-05-10T14:30:02.461Z"
        }
      }
    },
    {
      "cell_type": "code",
      "source": [
        "numpy_sum = pyimport(\"numpy\")[\"sum\"]\n",
        "\n",
        "py_numpy_bench = @benchmark $numpy_sum($a)"
      ],
      "outputs": [
        {
          "output_type": "error",
          "ename": "UndefVarError",
          "evalue": "UndefVarError: pyimport not defined",
          "traceback": [
            "UndefVarError: pyimport not defined",
            "",
            "Stacktrace:",
            " [1] top-level scope at In[123]:1"
          ]
        }
      ],
      "execution_count": 123,
      "metadata": {
        "execution": {
          "iopub.status.busy": "2020-05-10T14:30:02.499Z",
          "iopub.execute_input": "2020-05-10T14:30:02.520Z",
          "iopub.status.idle": "2020-05-10T14:30:02.564Z"
        }
      }
    },
    {
      "cell_type": "code",
      "source": [
        "numpy_sum(a)"
      ],
      "outputs": [
        {
          "output_type": "error",
          "ename": "UndefVarError",
          "evalue": "UndefVarError: numpy_sum not defined",
          "traceback": [
            "UndefVarError: numpy_sum not defined",
            "",
            "Stacktrace:",
            " [1] top-level scope at In[124]:1"
          ]
        }
      ],
      "execution_count": 124,
      "metadata": {
        "execution": {
          "iopub.status.busy": "2020-05-10T14:30:02.603Z",
          "iopub.execute_input": "2020-05-10T14:30:02.625Z",
          "iopub.status.idle": "2020-05-10T14:30:02.667Z"
        }
      }
    },
    {
      "cell_type": "code",
      "source": [
        "numpy_sum(a) ≈ sum(a)"
      ],
      "outputs": [
        {
          "output_type": "error",
          "ename": "UndefVarError",
          "evalue": "UndefVarError: numpy_sum not defined",
          "traceback": [
            "UndefVarError: numpy_sum not defined",
            "",
            "Stacktrace:",
            " [1] top-level scope at In[125]:1"
          ]
        }
      ],
      "execution_count": 125,
      "metadata": {
        "execution": {
          "iopub.status.busy": "2020-05-10T14:30:02.697Z",
          "iopub.execute_input": "2020-05-10T14:30:02.717Z",
          "iopub.status.idle": "2020-05-10T14:30:02.760Z"
        }
      }
    },
    {
      "cell_type": "code",
      "source": [
        "d[\"Python numpy\"] = minimum(py_numpy_bench.times) / 1e6\n",
        "d"
      ],
      "outputs": [
        {
          "output_type": "error",
          "ename": "UndefVarError",
          "evalue": "UndefVarError: py_numpy_bench not defined",
          "traceback": [
            "UndefVarError: py_numpy_bench not defined",
            "",
            "Stacktrace:",
            " [1] top-level scope at In[126]:1"
          ]
        }
      ],
      "execution_count": 126,
      "metadata": {
        "execution": {
          "iopub.status.busy": "2020-05-10T14:30:02.794Z",
          "iopub.execute_input": "2020-05-10T14:30:02.818Z",
          "iopub.status.idle": "2020-05-10T14:30:02.895Z"
        }
      }
    },
    {
      "cell_type": "markdown",
      "source": [
        "# 5. Python, hand-written"
      ],
      "metadata": {}
    },
    {
      "cell_type": "code",
      "source": [
        "py\"\"\"\n",
        "def py_sum(A):\n",
        "    s = 0.0\n",
        "    for a in A:\n",
        "        s += a\n",
        "    return s\n",
        "\"\"\"\n",
        "\n",
        "sum_py = py\"py_sum\""
      ],
      "outputs": [
        {
          "output_type": "error",
          "ename": "LoadError",
          "evalue": "UndefVarError: @py_str not defined",
          "traceback": [
            "UndefVarError: @py_str not defined",
            ""
          ]
        }
      ],
      "execution_count": 127,
      "metadata": {
        "execution": {
          "iopub.status.busy": "2020-05-10T14:30:02.930Z",
          "iopub.execute_input": "2020-05-10T14:30:02.952Z",
          "iopub.status.idle": "2020-05-10T14:30:02.995Z"
        }
      }
    },
    {
      "cell_type": "code",
      "source": [
        "py_hand = @benchmark $sum_py($a)"
      ],
      "outputs": [
        {
          "output_type": "error",
          "ename": "UndefVarError",
          "evalue": "UndefVarError: sum_py not defined",
          "traceback": [
            "UndefVarError: sum_py not defined",
            "",
            "Stacktrace:",
            " [1] top-level scope at C:\\Users\\Guru\\.juliapro\\JuliaPro_v1.0.5-2\\packages\\BenchmarkTools\\eCEpo\\src\\execution.jl:332",
            " [2] top-level scope at In[128]:1"
          ]
        }
      ],
      "execution_count": 128,
      "metadata": {
        "execution": {
          "iopub.status.busy": "2020-05-10T14:30:03.027Z",
          "iopub.execute_input": "2020-05-10T14:30:03.048Z",
          "iopub.status.idle": "2020-05-10T14:30:03.092Z"
        }
      }
    },
    {
      "cell_type": "code",
      "source": [
        "sum_py(a)"
      ],
      "outputs": [
        {
          "output_type": "error",
          "ename": "UndefVarError",
          "evalue": "UndefVarError: sum_py not defined",
          "traceback": [
            "UndefVarError: sum_py not defined",
            "",
            "Stacktrace:",
            " [1] top-level scope at In[129]:1"
          ]
        }
      ],
      "execution_count": 129,
      "metadata": {
        "execution": {
          "iopub.status.busy": "2020-05-10T14:30:03.125Z",
          "iopub.execute_input": "2020-05-10T14:30:03.145Z",
          "iopub.status.idle": "2020-05-10T14:30:03.188Z"
        }
      }
    },
    {
      "cell_type": "code",
      "source": [
        "sum_py(a) ≈ sum(a)"
      ],
      "outputs": [
        {
          "output_type": "error",
          "ename": "UndefVarError",
          "evalue": "UndefVarError: sum_py not defined",
          "traceback": [
            "UndefVarError: sum_py not defined",
            "",
            "Stacktrace:",
            " [1] top-level scope at In[130]:1"
          ]
        }
      ],
      "execution_count": 130,
      "metadata": {
        "execution": {
          "iopub.status.busy": "2020-05-10T14:30:03.222Z",
          "iopub.execute_input": "2020-05-10T14:30:03.242Z",
          "iopub.status.idle": "2020-05-10T14:30:03.286Z"
        }
      }
    },
    {
      "cell_type": "code",
      "source": [
        "d[\"Python hand-written\"] = minimum(py_hand.times) / 1e6\n",
        "d"
      ],
      "outputs": [
        {
          "output_type": "error",
          "ename": "UndefVarError",
          "evalue": "UndefVarError: py_hand not defined",
          "traceback": [
            "UndefVarError: py_hand not defined",
            "",
            "Stacktrace:",
            " [1] top-level scope at In[131]:1"
          ]
        }
      ],
      "execution_count": 131,
      "metadata": {
        "execution": {
          "iopub.status.busy": "2020-05-10T14:30:03.317Z",
          "iopub.execute_input": "2020-05-10T14:30:03.336Z",
          "iopub.status.idle": "2020-05-10T14:30:03.382Z"
        }
      }
    },
    {
      "cell_type": "markdown",
      "source": [
        "# 6. Julia (built-in)\n",
        "\n",
        "## Written directly in Julia, not in C!"
      ],
      "metadata": {}
    },
    {
      "cell_type": "code",
      "source": [
        "@which sum(a)"
      ],
      "outputs": [
        {
          "output_type": "execute_result",
          "execution_count": 132,
          "data": {
            "text/plain": [
              "sum(a::AbstractArray) in Base at reducedim.jl:645"
            ],
            "text/html": [
              "sum(a::<b>AbstractArray</b>) in Base at <a href=\"https://github.com/JuliaLang/julia/tree/3af96bcefcb0aec559d4652fd75e1bc3fcfe99da/base/reducedim.jl#L645\" target=\"_blank\">reducedim.jl:645</a>"
            ]
          },
          "metadata": {}
        }
      ],
      "execution_count": 132,
      "metadata": {
        "execution": {
          "iopub.status.busy": "2020-05-10T14:30:03.423Z",
          "iopub.execute_input": "2020-05-10T14:30:03.445Z",
          "iopub.status.idle": "2020-05-10T14:30:03.498Z"
        }
      }
    },
    {
      "cell_type": "code",
      "source": [
        "j_bench = @benchmark sum($a)"
      ],
      "outputs": [
        {
          "output_type": "execute_result",
          "execution_count": 133,
          "data": {
            "text/plain": [
              "BenchmarkTools.Trial: \n",
              "  memory estimate:  0 bytes\n",
              "  allocs estimate:  0\n",
              "  --------------\n",
              "  minimum time:     7.091 ms (0.00% GC)\n",
              "  median time:      7.372 ms (0.00% GC)\n",
              "  mean time:        7.679 ms (0.00% GC)\n",
              "  maximum time:     10.815 ms (0.00% GC)\n",
              "  --------------\n",
              "  samples:          650\n",
              "  evals/sample:     1"
            ]
          },
          "metadata": {}
        }
      ],
      "execution_count": 133,
      "metadata": {
        "execution": {
          "iopub.status.busy": "2020-05-10T14:30:03.529Z",
          "iopub.execute_input": "2020-05-10T14:30:03.549Z",
          "iopub.status.idle": "2020-05-10T14:30:12.918Z"
        }
      }
    },
    {
      "cell_type": "code",
      "source": [
        "d[\"Julia built-in\"] = minimum(j_bench.times) / 1e6\n",
        "d"
      ],
      "outputs": [
        {
          "output_type": "execute_result",
          "execution_count": 134,
          "data": {
            "text/plain": [
              "Dict{Any,Any} with 1 entry:\n",
              "  \"Julia built-in\" => 7.0912"
            ]
          },
          "metadata": {}
        }
      ],
      "execution_count": 134,
      "metadata": {
        "execution": {
          "iopub.status.busy": "2020-05-10T14:30:12.953Z",
          "iopub.execute_input": "2020-05-10T14:30:12.972Z",
          "iopub.status.idle": "2020-05-10T14:30:13.012Z"
        }
      }
    },
    {
      "cell_type": "markdown",
      "source": [
        "# 7. Julia (hand-written)"
      ],
      "metadata": {}
    },
    {
      "cell_type": "code",
      "source": [
        "function mysum(A)\n",
        "    s = 0.0 # s = zero(eltype(a))\n",
        "    for a in A\n",
        "        s += a\n",
        "    end\n",
        "    s\n",
        "end"
      ],
      "outputs": [
        {
          "output_type": "execute_result",
          "execution_count": 135,
          "data": {
            "text/plain": [
              "mysum (generic function with 1 method)"
            ]
          },
          "metadata": {}
        }
      ],
      "execution_count": 135,
      "metadata": {
        "execution": {
          "iopub.status.busy": "2020-05-10T14:30:13.043Z",
          "iopub.execute_input": "2020-05-10T14:30:13.062Z",
          "iopub.status.idle": "2020-05-10T14:30:13.107Z"
        }
      }
    },
    {
      "cell_type": "code",
      "source": [
        "j_bench_hand = @benchmark mysum($a)"
      ],
      "outputs": [
        {
          "output_type": "execute_result",
          "execution_count": 136,
          "data": {
            "text/plain": [
              "BenchmarkTools.Trial: \n",
              "  memory estimate:  0 bytes\n",
              "  allocs estimate:  0\n",
              "  --------------\n",
              "  minimum time:     25.462 ms (0.00% GC)\n",
              "  median time:      25.527 ms (0.00% GC)\n",
              "  mean time:        25.702 ms (0.00% GC)\n",
              "  maximum time:     28.492 ms (0.00% GC)\n",
              "  --------------\n",
              "  samples:          195\n",
              "  evals/sample:     1"
            ]
          },
          "metadata": {}
        }
      ],
      "execution_count": 136,
      "metadata": {
        "execution": {
          "iopub.status.busy": "2020-05-10T14:30:13.137Z",
          "iopub.execute_input": "2020-05-10T14:30:13.156Z",
          "iopub.status.idle": "2020-05-10T14:30:24.972Z"
        }
      }
    },
    {
      "cell_type": "code",
      "source": [
        "d[\"Julia hand-written\"] = minimum(j_bench_hand.times) / 1e6\n",
        "d"
      ],
      "outputs": [
        {
          "output_type": "execute_result",
          "execution_count": 137,
          "data": {
            "text/plain": [
              "Dict{Any,Any} with 2 entries:\n",
              "  \"Julia hand-written\" => 25.4622\n",
              "  \"Julia built-in\"     => 7.0912"
            ]
          },
          "metadata": {}
        }
      ],
      "execution_count": 137,
      "metadata": {
        "execution": {
          "iopub.status.busy": "2020-05-10T14:30:25.002Z",
          "iopub.execute_input": "2020-05-10T14:30:25.023Z",
          "iopub.status.idle": "2020-05-10T14:30:25.067Z"
        }
      }
    },
    {
      "cell_type": "markdown",
      "source": [
        "# 8. Julia (hand-written w. simd)"
      ],
      "metadata": {}
    },
    {
      "cell_type": "code",
      "source": [
        "function mysum_simd(A)\n",
        "    s = 0.0 # s = zero(eltype(A))\n",
        "    @simd for a in A\n",
        "        s += a\n",
        "    end\n",
        "    s\n",
        "end"
      ],
      "outputs": [
        {
          "output_type": "execute_result",
          "execution_count": 138,
          "data": {
            "text/plain": [
              "mysum_simd (generic function with 1 method)"
            ]
          },
          "metadata": {}
        }
      ],
      "execution_count": 138,
      "metadata": {
        "execution": {
          "iopub.status.busy": "2020-05-10T14:30:25.097Z",
          "iopub.execute_input": "2020-05-10T14:30:25.117Z",
          "iopub.status.idle": "2020-05-10T14:30:25.161Z"
        }
      }
    },
    {
      "cell_type": "code",
      "source": [
        "j_bench_hand_simd = @benchmark mysum_simd($a)"
      ],
      "outputs": [
        {
          "output_type": "execute_result",
          "execution_count": 139,
          "data": {
            "text/plain": [
              "BenchmarkTools.Trial: \n",
              "  memory estimate:  0 bytes\n",
              "  allocs estimate:  0\n",
              "  --------------\n",
              "  minimum time:     7.062 ms (0.00% GC)\n",
              "  median time:      7.292 ms (0.00% GC)\n",
              "  mean time:        7.398 ms (0.00% GC)\n",
              "  maximum time:     9.143 ms (0.00% GC)\n",
              "  --------------\n",
              "  samples:          675\n",
              "  evals/sample:     1"
            ]
          },
          "metadata": {}
        }
      ],
      "execution_count": 139,
      "metadata": {
        "execution": {
          "iopub.status.busy": "2020-05-10T14:30:25.191Z",
          "iopub.execute_input": "2020-05-10T14:30:25.211Z",
          "iopub.status.idle": "2020-05-10T14:30:36.808Z"
        }
      }
    },
    {
      "cell_type": "code",
      "source": [
        "mysum_simd(a)"
      ],
      "outputs": [
        {
          "output_type": "execute_result",
          "execution_count": 140,
          "data": {
            "text/plain": [
              "5.001145501676659e6"
            ]
          },
          "metadata": {}
        }
      ],
      "execution_count": 140,
      "metadata": {
        "execution": {
          "iopub.status.busy": "2020-05-10T14:30:36.840Z",
          "iopub.execute_input": "2020-05-10T14:30:36.860Z",
          "iopub.status.idle": "2020-05-10T14:30:36.900Z"
        }
      }
    },
    {
      "cell_type": "code",
      "source": [
        "d[\"Julia hand-written simd\"] = minimum(j_bench_hand_simd.times) / 1e6\n",
        "d"
      ],
      "outputs": [
        {
          "output_type": "execute_result",
          "execution_count": 141,
          "data": {
            "text/plain": [
              "Dict{Any,Any} with 3 entries:\n",
              "  \"Julia hand-written simd\" => 7.0618\n",
              "  \"Julia hand-written\"      => 25.4622\n",
              "  \"Julia built-in\"          => 7.0912"
            ]
          },
          "metadata": {}
        }
      ],
      "execution_count": 141,
      "metadata": {
        "execution": {
          "iopub.status.busy": "2020-05-10T14:30:36.932Z",
          "iopub.execute_input": "2020-05-10T14:30:36.951Z",
          "iopub.status.idle": "2020-05-10T14:30:36.992Z"
        }
      }
    },
    {
      "cell_type": "markdown",
      "source": [
        "# Summary"
      ],
      "metadata": {}
    },
    {
      "cell_type": "code",
      "source": [
        "for (key, value) in sort(collect(d), by=last)\n",
        "    println(rpad(key, 25, \".\"), lpad(round(value; digits=1), 6, \".\"))\n",
        "end"
      ],
      "outputs": [
        {
          "output_type": "stream",
          "name": "stdout",
          "text": [
            "Julia hand-written simd.....7.1\n",
            "Julia built-in..............7.1\n",
            "Julia hand-written.........25.5\n"
          ]
        }
      ],
      "execution_count": 142,
      "metadata": {
        "execution": {
          "iopub.status.busy": "2020-05-10T14:30:37.025Z",
          "iopub.execute_input": "2020-05-10T14:30:37.044Z",
          "iopub.status.idle": "2020-05-10T14:30:37.084Z"
        }
      }
    }
  ],
  "metadata": {
    "language_info": {
      "file_extension": ".jl",
      "name": "julia",
      "mimetype": "application/julia",
      "version": "1.0.5"
    },
    "kernelspec": {
      "name": "julia-1.0",
      "display_name": "Julia 1.0.3",
      "language": "julia"
    },
    "nteract": {
      "version": "0.23.1"
    }
  },
  "nbformat": 4,
  "nbformat_minor": 3
}