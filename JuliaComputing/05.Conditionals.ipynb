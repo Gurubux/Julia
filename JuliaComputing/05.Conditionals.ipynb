{
  "cells": [
    {
      "cell_type": "markdown",
      "source": [
        "# Conditionals\n",
        "\n",
        "#### with the `if` keyword\n",
        "In Julia, the syntax\n",
        "\n",
        "```julia\n",
        "if *condition 1*\n",
        "    *option 1*\n",
        "elseif *condition 2*\n",
        "    *option 2*\n",
        "else\n",
        "    *option 3*\n",
        "end\n",
        "```\n",
        "\n",
        "allows us to conditionally evaluate one of our options.\n",
        "<br><br>\n",
        "For example, we might want to implement the FizzBuzz test: given a number, N, print \"Fizz\" if N is divisible by 3, \"Buzz\" if N is divisible by 5, and \"FizzBuzz\" if N is divisible by 3 and 5. Otherwise just print the number itself! Enter your choice for `N` here:"
      ],
      "metadata": {}
    },
    {
      "cell_type": "code",
      "source": [
        "N = 15"
      ],
      "outputs": [
        {
          "output_type": "execute_result",
          "execution_count": 36,
          "data": {
            "text/plain": [
              "15"
            ]
          },
          "metadata": {}
        }
      ],
      "execution_count": 36,
      "metadata": {
        "execution": {
          "iopub.status.busy": "2020-05-10T09:53:14.413Z",
          "iopub.execute_input": "2020-05-10T09:53:14.418Z",
          "iopub.status.idle": "2020-05-10T09:53:14.428Z"
        }
      }
    },
    {
      "cell_type": "code",
      "source": [
        "if (N % 3 == 0) && (N % 5 == 0) # `&&` means \"AND\"; % computes the remainder after division\n",
        "    println(\"FizzBuzz\")\n",
        "elseif N % 3 == 0\n",
        "    println(\"Fizz\")\n",
        "elseif N % 5 == 0\n",
        "    println(\"Buzz\")\n",
        "else\n",
        "    println(N)\n",
        "end"
      ],
      "outputs": [
        {
          "output_type": "stream",
          "name": "stdout",
          "text": [
            "FizzBuzz\n"
          ]
        }
      ],
      "execution_count": 37,
      "metadata": {
        "execution": {
          "iopub.status.busy": "2020-05-10T09:53:14.437Z",
          "iopub.execute_input": "2020-05-10T09:53:14.441Z",
          "iopub.status.idle": "2020-05-10T09:53:14.453Z"
        }
      }
    },
    {
      "cell_type": "markdown",
      "source": [
        "#### with ternary operators\n",
        "\n",
        "For this last block, we could instead use the ternary operator with the syntax\n",
        "\n",
        "```julia\n",
        "a ? b : c\n",
        "```\n",
        "\n",
        "which equates to\n",
        "\n",
        "```julia\n",
        "if a\n",
        "    b\n",
        "else\n",
        "    c\n",
        "end\n",
        "```"
      ],
      "metadata": {}
    },
    {
      "cell_type": "markdown",
      "source": [
        "Now let's say we want to return the larger of two numbers. Give `x` and `y` values here:"
      ],
      "metadata": {}
    },
    {
      "cell_type": "code",
      "source": [
        "x = 120\n",
        "y = 170"
      ],
      "outputs": [
        {
          "output_type": "execute_result",
          "execution_count": 38,
          "data": {
            "text/plain": [
              "170"
            ]
          },
          "metadata": {}
        }
      ],
      "execution_count": 38,
      "metadata": {
        "execution": {
          "iopub.status.busy": "2020-05-10T09:53:14.459Z",
          "iopub.execute_input": "2020-05-10T09:53:14.465Z",
          "iopub.status.idle": "2020-05-10T09:53:14.475Z"
        }
      }
    },
    {
      "cell_type": "markdown",
      "source": [
        "Using the `if` and `else` keywords, we might write:"
      ],
      "metadata": {}
    },
    {
      "cell_type": "code",
      "source": [
        "if x > y\n",
        "    x\n",
        "else\n",
        "    y\n",
        "end"
      ],
      "outputs": [
        {
          "output_type": "execute_result",
          "execution_count": 39,
          "data": {
            "text/plain": [
              "170"
            ]
          },
          "metadata": {}
        }
      ],
      "execution_count": 39,
      "metadata": {
        "execution": {
          "iopub.status.busy": "2020-05-10T09:53:14.482Z",
          "iopub.execute_input": "2020-05-10T09:53:14.487Z",
          "iopub.status.idle": "2020-05-10T09:53:14.496Z"
        }
      }
    },
    {
      "cell_type": "markdown",
      "source": [
        "and as a ternary operator, the conditional looks like this:"
      ],
      "metadata": {}
    },
    {
      "cell_type": "code",
      "source": [
        "(x > y) ? x : y"
      ],
      "outputs": [
        {
          "output_type": "execute_result",
          "execution_count": 40,
          "data": {
            "text/plain": [
              "170"
            ]
          },
          "metadata": {}
        }
      ],
      "execution_count": 40,
      "metadata": {
        "execution": {
          "iopub.status.busy": "2020-05-10T09:53:14.503Z",
          "iopub.execute_input": "2020-05-10T09:53:14.507Z",
          "iopub.status.idle": "2020-05-10T09:53:14.516Z"
        }
      }
    },
    {
      "cell_type": "markdown",
      "source": [
        "#### with short-circuit evaluation\n",
        "\n",
        "We've already seen expressions with the syntax\n",
        "```julia\n",
        "a && b\n",
        "```\n",
        "to return true if both `a` and `b` are true. Of course, if `a` is false, Julia doesn't even need to know the value of `b` in order to determine that the overall result will be false. So Julia doesn't even need to check what `b` is; it can just \"short-circuit\" and immediately return `false`.  The second argument `b` might be a more complicated expression like a function call with a side-effect, in which case it won't even be called:"
      ],
      "metadata": {}
    },
    {
      "cell_type": "code",
      "source": [
        "false && (println(\"hi\"); true)"
      ],
      "outputs": [
        {
          "output_type": "execute_result",
          "execution_count": 41,
          "data": {
            "text/plain": [
              "false"
            ]
          },
          "metadata": {}
        }
      ],
      "execution_count": 41,
      "metadata": {
        "execution": {
          "iopub.status.busy": "2020-05-10T09:53:14.523Z",
          "iopub.execute_input": "2020-05-10T09:53:14.528Z",
          "iopub.status.idle": "2020-05-10T09:53:14.538Z"
        }
      }
    },
    {
      "cell_type": "code",
      "source": [
        "true && (println(\"hi\"); true)"
      ],
      "outputs": [
        {
          "output_type": "stream",
          "name": "stdout",
          "text": [
            "hi\n"
          ]
        },
        {
          "output_type": "execute_result",
          "execution_count": 42,
          "data": {
            "text/plain": [
              "true"
            ]
          },
          "metadata": {}
        }
      ],
      "execution_count": 42,
      "metadata": {
        "execution": {
          "iopub.status.busy": "2020-05-10T09:53:14.546Z",
          "iopub.execute_input": "2020-05-10T09:53:14.551Z",
          "iopub.status.idle": "2020-05-10T09:53:14.567Z"
        }
      }
    },
    {
      "cell_type": "markdown",
      "source": [
        "On the other hand, if `a` is true, Julia knows it can just return the value of `b` as the overall expression. This means that `b` doesn't necessarily need evaluate to `true` or `false`!  `b` could even be an error:"
      ],
      "metadata": {}
    },
    {
      "cell_type": "code",
      "source": [
        "(x > 0) && error(\"x cannot be greater than 0\")"
      ],
      "outputs": [
        {
          "output_type": "error",
          "ename": "ErrorException",
          "evalue": "x cannot be greater than 0",
          "traceback": [
            "x cannot be greater than 0",
            "",
            "Stacktrace:",
            " [1] error(::String) at .\\error.jl:33",
            " [2] top-level scope at In[43]:1"
          ]
        }
      ],
      "execution_count": 43,
      "metadata": {
        "execution": {
          "iopub.status.busy": "2020-05-10T09:53:14.576Z",
          "iopub.execute_input": "2020-05-10T09:53:14.581Z",
          "iopub.status.idle": "2020-05-10T09:53:14.591Z"
        }
      }
    },
    {
      "cell_type": "markdown",
      "source": [
        "Similarly, check out the `||` operator, which also uses short-circuit evaluation to perform the \"or\" operation."
      ],
      "metadata": {}
    },
    {
      "cell_type": "code",
      "source": [
        "true || println(\"hi\")"
      ],
      "outputs": [
        {
          "output_type": "execute_result",
          "execution_count": 44,
          "data": {
            "text/plain": [
              "true"
            ]
          },
          "metadata": {}
        }
      ],
      "execution_count": 44,
      "metadata": {
        "execution": {
          "iopub.status.busy": "2020-05-10T09:53:14.597Z",
          "iopub.execute_input": "2020-05-10T09:53:14.601Z",
          "iopub.status.idle": "2020-05-10T09:53:14.610Z"
        }
      }
    },
    {
      "cell_type": "markdown",
      "source": [
        "and"
      ],
      "metadata": {}
    },
    {
      "cell_type": "code",
      "source": [
        "false || println(\"hi\")"
      ],
      "outputs": [
        {
          "output_type": "stream",
          "name": "stdout",
          "text": [
            "hi\n"
          ]
        }
      ],
      "execution_count": 45,
      "metadata": {
        "execution": {
          "iopub.status.busy": "2020-05-10T09:53:14.617Z",
          "iopub.execute_input": "2020-05-10T09:53:14.622Z",
          "iopub.status.idle": "2020-05-10T09:53:14.631Z"
        }
      }
    },
    {
      "cell_type": "markdown",
      "source": [
        "### Exercises\n",
        "\n",
        "#### 5.1\n",
        "Write a conditional statement that prints a number if the number is even and the string \"odd\" if the number is odd."
      ],
      "metadata": {}
    },
    {
      "cell_type": "code",
      "source": [
        "a = 5\n",
        "if a % 2 == 0\n",
        "  print(a)\n",
        "else\n",
        "  print(\"odd\")\n",
        "end"
      ],
      "outputs": [
        {
          "output_type": "stream",
          "name": "stdout",
          "text": [
            "odd"
          ]
        }
      ],
      "execution_count": 46,
      "metadata": {
        "collapsed": true,
        "outputExpanded": false,
        "jupyter": {
          "source_hidden": false,
          "outputs_hidden": false
        },
        "nteract": {
          "transient": {
            "deleting": false
          }
        },
        "execution": {
          "iopub.status.busy": "2020-05-10T09:53:14.638Z",
          "iopub.execute_input": "2020-05-10T09:53:14.641Z",
          "iopub.status.idle": "2020-05-10T09:53:14.650Z"
        }
      }
    },
    {
      "cell_type": "markdown",
      "source": [
        "#### 5.2\n",
        "Rewrite the code from 5.1 using a ternary operator."
      ],
      "metadata": {}
    },
    {
      "cell_type": "code",
      "source": [
        "a = 6\n",
        "a % 2 == 0 ? print(a) : print(\"odd\")"
      ],
      "outputs": [
        {
          "output_type": "stream",
          "name": "stdout",
          "text": [
            "6"
          ]
        }
      ],
      "execution_count": 47,
      "metadata": {
        "collapsed": true,
        "outputExpanded": false,
        "jupyter": {
          "source_hidden": false,
          "outputs_hidden": false
        },
        "nteract": {
          "transient": {
            "deleting": false
          }
        },
        "execution": {
          "iopub.status.busy": "2020-05-10T09:53:14.656Z",
          "iopub.execute_input": "2020-05-10T09:53:14.660Z",
          "iopub.status.idle": "2020-05-10T09:53:14.669Z"
        }
      }
    }
  ],
  "metadata": {
    "language_info": {
      "file_extension": ".jl",
      "name": "julia",
      "mimetype": "application/julia",
      "version": "1.0.5"
    },
    "kernelspec": {
      "name": "julia-1.0",
      "display_name": "Julia 1.0.3",
      "language": "julia"
    },
    "nteract": {
      "version": "0.23.1"
    }
  },
  "nbformat": 4,
  "nbformat_minor": 3
}